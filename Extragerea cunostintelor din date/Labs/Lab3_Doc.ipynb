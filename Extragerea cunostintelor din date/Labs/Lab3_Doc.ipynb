{
  "cells": [
    {
      "cell_type": "markdown",
      "id": "63c89641",
      "metadata": {
        "id": "63c89641"
      },
      "source": [
        "## Data Mining: Lab 3 - examples - classification models / exemple - modele de clasificare\n",
        "\n",
        "Objectives:\n",
        "1. getting familiar with classification models / Obiective: familiarizare cu modele de clasificare\n",
        "     * Decision Trees and Classification Rules / Arbori de decizie si reguli de clasificare\n",
        "     * k Nearest Neighbours / Modele bazate pe cei mai apropiati vecini\n",
        "     * Naive Bayes / Classificator Bayesian naiv\n",
        "     * Support Vector Machines / Clasificatori bazati pe vectori suport\n",
        "     * Multilayer Perceptrons / Retele neuronale de tip perceptron multinivel\n",
        "1. evaluating the performance of a classifier / evaluarea performantei unui clasificator\n",
        "     * performance measures / masuri de performanta\n",
        "     * cross validation / validare inc"
      ]
    },
    {
      "cell_type": "markdown",
      "id": "a241102f",
      "metadata": {
        "id": "a241102f"
      },
      "source": [
        "#### Importing general libraries"
      ]
    },
    {
      "cell_type": "code",
      "execution_count": null,
      "id": "df2e7c79",
      "metadata": {
        "id": "df2e7c79"
      },
      "outputs": [],
      "source": [
        "import pandas as pd\n",
        "import numpy as np\n",
        "from scipy.io.arff import loadarff    # for arff files / pt fisiere arff\n",
        "import matplotlib.pyplot as plt"
      ]
    },
    {
      "cell_type": "markdown",
      "id": "26d8a822",
      "metadata": {
        "id": "26d8a822"
      },
      "source": [
        "### 0. Introduction: get familiar with the scikit-learn  classification models / familiarizare cu modelele de clasificare implementate in scikit-learn\n",
        " * https://scikit-learn.org/stable/auto_examples/classification/plot_classifier_comparison.html#sphx-glr-auto-examples-classification-plot-classifier-comparison-py"
      ]
    },
    {
      "cell_type": "code",
      "execution_count": null,
      "id": "abbc6440",
      "metadata": {
        "id": "abbc6440"
      },
      "outputs": [],
      "source": [
        "# Adaptation of the code: Gaël Varoquaux,  Andreas Müller\n",
        "# Modified for documentation by Jaques Grobler\n",
        "# License: BSD 3 clause\n",
        "from matplotlib.colors import ListedColormap\n",
        "from sklearn.model_selection import train_test_split\n",
        "from sklearn.preprocessing import StandardScaler\n",
        "from sklearn.datasets import make_moons, make_circles\n",
        "from sklearn.inspection import DecisionBoundaryDisplay\n",
        "from sklearn.neural_network import MLPClassifier\n",
        "from sklearn.neighbors import KNeighborsClassifier\n",
        "from sklearn.svm import SVC\n",
        "#from sklearn.gaussian_process import GaussianProcessClassifier\n",
        "from sklearn.tree import DecisionTreeClassifier\n",
        "from sklearn.naive_bayes import GaussianNB\n",
        "from sklearn.discriminant_analysis import QuadraticDiscriminantAnalysis\n",
        "h = 0.02  # step size in the mesh\n",
        "names = [\n",
        "    \"DT\",\n",
        "    \"kNN\",\n",
        "    \"NB\",\n",
        "    \"LinSVM\",\n",
        "    \"RBF-SVM\",\n",
        "    \"MLP\"\n",
        "]\n",
        "classifiers = [\n",
        "    DecisionTreeClassifier(max_depth=5),\n",
        "    KNeighborsClassifier(3),\n",
        "    GaussianNB(),\n",
        "    SVC(kernel=\"linear\", C=0.025),\n",
        "    SVC(gamma=2, C=1),\n",
        "    MLPClassifier(alpha=1, max_iter=1000)\n",
        "]"
      ]
    },
    {
      "cell_type": "code",
      "execution_count": null,
      "id": "5486fd7e",
      "metadata": {
        "id": "5486fd7e"
      },
      "outputs": [],
      "source": [
        "# Synthetic datasets (2D) / Seturi de date sintetice\n",
        "X, y = make_classification(n_features=2, n_redundant=0, n_informative=2, random_state=1, n_clusters_per_class=1)\n",
        "rng = np.random.RandomState(2)\n",
        "X += 2 * rng.uniform(size=X.shape)\n",
        "linearly_separable = (X, y)\n",
        "\n",
        "datasets = [\n",
        "    make_moons(noise=0.3, random_state=0),\n",
        "    make_circles(noise=0.2, factor=0.5, random_state=1),\n",
        "    linearly_separable,\n",
        "]\n",
        "figure = plt.figure(figsize=(21, 9))"
      ]
    },
    {
      "cell_type": "code",
      "execution_count": null,
      "id": "6ea7b46e-da15-42d7-97d0-2d6b57a463c4",
      "metadata": {
        "id": "6ea7b46e-da15-42d7-97d0-2d6b57a463c4"
      },
      "outputs": [],
      "source": [
        "i = 1\n",
        "# iterate over datasets / parcurgere seturi de date\n",
        "for ds_cnt, ds in enumerate(datasets):\n",
        "    # preprocess dataset, split into training (60%) and test part (40%) / partitionare set date: antrenare (60%) si testare (40%)\n",
        "    X, y = ds\n",
        "    X_train, X_test, y_train, y_test = train_test_split(\n",
        "        X, y, test_size=0.4, random_state=42\n",
        "    )\n",
        "\n",
        "    x_min, x_max = X[:, 0].min() - 0.5, X[:, 0].max() + 0.5\n",
        "    y_min, y_max = X[:, 1].min() - 0.5, X[:, 1].max() + 0.5\n",
        "\n",
        "    # just plot the dataset first\n",
        "    cm = plt.cm.RdBu\n",
        "    cm_bright = ListedColormap([\"#FF0000\", \"#0000FF\"])\n",
        "    ax = plt.subplot(len(datasets), len(classifiers) + 1, i)\n",
        "    if ds_cnt == 0:\n",
        "        ax.set_title(\"Input data\")\n",
        "    # Plot the training points\n",
        "    ax.scatter(X_train[:, 0], X_train[:, 1], c=y_train, cmap=cm_bright, edgecolors=\"k\")\n",
        "    # Plot the testing points\n",
        "    ax.scatter(\n",
        "        X_test[:, 0], X_test[:, 1], c=y_test, cmap=cm_bright, alpha=0.6, edgecolors=\"k\"\n",
        "    )\n",
        "    ax.set_xlim(x_min, x_max)\n",
        "    ax.set_ylim(y_min, y_max)\n",
        "    ax.set_xticks(())\n",
        "    ax.set_yticks(())\n",
        "    i += 1\n",
        "\n",
        "    # iterate over classifiers / parcurgere modele\n",
        "    for name, clf in zip(names, classifiers):\n",
        "        ax = plt.subplot(len(datasets), len(classifiers) + 1, i)\n",
        "        # define a pipeline that includes the pre-processing (standardizatio) + classifier /\n",
        "        # definirea unui flux de prelucrări care include pre-procesarea (standardizare)+ clasificator\n",
        "        clf = make_pipeline(StandardScaler(), clf)\n",
        "        clf.fit(X_train, y_train)            # training / antrenare\n",
        "        score = clf.score(X_test, y_test)    # accuracy computing on testind set / calcul acuratete pe setul de testare\n",
        "        DecisionBoundaryDisplay.from_estimator(clf, X, cmap=cm, alpha=0.8, ax=ax, eps=0.5)\n",
        "        # Plot the training points / vizualizare date de antrenare\n",
        "        ax.scatter(X_train[:, 0], X_train[:, 1], c=y_train, cmap=cm_bright, edgecolors=\"k\")\n",
        "        # Plot the testing points / Vizualizare date de testare\n",
        "        ax.scatter(X_test[:, 0], X_test[:, 1], c=y_test, cmap=cm_bright, edgecolors=\"k\", alpha=0.6)\n",
        "        ax.set_xlim(x_min, x_max)\n",
        "        ax.set_ylim(y_min, y_max)\n",
        "        ax.set_xticks(())\n",
        "        ax.set_yticks(())\n",
        "        if ds_cnt == 0:\n",
        "            ax.set_title(name)\n",
        "        ax.text(x_max - 0.3, y_min + 0.3, (\"%.2f\" % score).lstrip(\"0\"), size=15, horizontalalignment=\"right\")\n",
        "        i += 1\n",
        "\n",
        "plt.tight_layout()\n",
        "plt.show()"
      ]
    },
    {
      "cell_type": "markdown",
      "id": "30c93842",
      "metadata": {
        "id": "30c93842"
      },
      "source": [
        "### 1. Decision trees / Arbori de decizie\n",
        " * they rely on the idea of recursively splitting the dataset based, at each step, on the values of the currently most relevant attribute\n",
        " * the relevance is measured using Gini index or the information gain\n",
        " * the recursive splitting process continue until a given tree depth is reached or until the dataset corresponding to the node has a small enough number of elements"
      ]
    },
    {
      "cell_type": "code",
      "execution_count": null,
      "id": "fcb39814",
      "metadata": {
        "scrolled": true,
        "id": "fcb39814"
      },
      "outputs": [],
      "source": [
        "from pandas import read_csv\n",
        "dataBreastCancerW = read_csv('breast-w.csv')\n",
        "dataBreastCancerW = dataBreastCancerW.dropna()"
      ]
    },
    {
      "cell_type": "code",
      "execution_count": null,
      "id": "ca403406-ff41-473f-8b14-9875bdcf5ee6",
      "metadata": {
        "id": "ca403406-ff41-473f-8b14-9875bdcf5ee6"
      },
      "outputs": [],
      "source": [
        "dataBreastCancerW"
      ]
    },
    {
      "cell_type": "code",
      "execution_count": null,
      "id": "d6a41b97",
      "metadata": {
        "scrolled": true,
        "id": "d6a41b97"
      },
      "outputs": [],
      "source": [
        "# extract the names of the attributes / extragerea numelor atributelor\n",
        "attrNames=list(dataBreastCancerW.columns)"
      ]
    },
    {
      "cell_type": "code",
      "execution_count": null,
      "id": "b11639f7",
      "metadata": {
        "id": "b11639f7"
      },
      "outputs": [],
      "source": [
        "# decision trees class / arbori de decizie\n",
        "from sklearn import tree"
      ]
    },
    {
      "cell_type": "code",
      "execution_count": null,
      "id": "9a105082",
      "metadata": {
        "id": "9a105082"
      },
      "outputs": [],
      "source": [
        "# extract the predictive attributes and the class attribute\n",
        "X, y = dataBreastCancerW.values[:,0:9], dataBreastCancerW.values[:,9]"
      ]
    },
    {
      "cell_type": "code",
      "execution_count": null,
      "id": "c98d3ff7",
      "metadata": {
        "scrolled": true,
        "id": "c98d3ff7"
      },
      "outputs": [],
      "source": [
        "# Rmk:  the data should be numerical /  datele trebuie sa fie numerice\n",
        "from sklearn import preprocessing\n",
        "enc = preprocessing.OrdinalEncoder()\n",
        "enc.fit(y.reshape(-1,1))  # OrdinalEncoder expect an 2D array / OrdinalEncoder asteapta tablou 2D\n",
        "y2=enc.transform(y.reshape(-1,1)).flatten()\n",
        "enc.fit(X)\n",
        "X2=enc.transform(X)"
      ]
    },
    {
      "cell_type": "code",
      "execution_count": null,
      "id": "08febe57",
      "metadata": {
        "id": "08febe57"
      },
      "outputs": [],
      "source": [
        "# training and testing dataset (60% training, 40% testing) / partitionare in set de antrenare si testare (60% antrenare, 40% testare)\n",
        "from sklearn.model_selection import train_test_split\n",
        "X_train, X_test, y_train, y_test = train_test_split(X2, y2, test_size=0.4, random_state=42)"
      ]
    },
    {
      "cell_type": "code",
      "execution_count": null,
      "id": "a761d9f3",
      "metadata": {
        "id": "a761d9f3"
      },
      "outputs": [],
      "source": [
        "# construction of the classifier (default values of the parameters) / construirea clasificatorului\n",
        "clfDT = tree.DecisionTreeClassifier()\n",
        "clfDT = clfDT.fit(X_train, y_train)  # training / antrenare"
      ]
    },
    {
      "cell_type": "code",
      "execution_count": null,
      "id": "420e1e04-45ac-4931-be88-cd1278731b94",
      "metadata": {
        "colab": {
          "base_uri": "https://localhost:8080/"
        },
        "id": "420e1e04-45ac-4931-be88-cd1278731b94",
        "outputId": "77c21839-0bc5-4311-8b1d-159f0aab7fb7"
      },
      "outputs": [
        {
          "output_type": "stream",
          "name": "stdout",
          "text": [
            "fpr= [0.         0.03243243 1.        ] tpr= [0.         0.86315789 1.        ] thresholds= [2. 1. 0.] AuC= 0.9153627311522048 Accuracy= 0.9321428571428572\n",
            "CM= [[179   6]\n",
            " [ 13  82]]\n"
          ]
        }
      ],
      "source": [
        "from sklearn import metrics\n",
        "pred = clfDT.predict(X_test) # prediction on testing dataset / predictie pe setul de testare\n",
        "clfDT_fpr, clfDT_tpr, clfDT_thresholds = metrics.roc_curve(y_test, pred) # compute coordinates of ROC curve points / calcul coordonate puncte de pe curba ROC\n",
        "clfDT_auc = metrics.auc(clfDT_fpr, clfDT_tpr)  # area under the curve / calcul AuC\n",
        "clfDT_acc = clfDT.score(X_test, y_test)\n",
        "print(\"fpr=\", clfDT_fpr, \"tpr=\", clfDT_tpr, \"thresholds=\", clfDT_thresholds, \"AuC=\",clfDT_auc, \"Accuracy=\", clfDT_acc)\n",
        "clfDT_CM = metrics.confusion_matrix(y_test, pred)\n",
        "print(\"CM=\", clfDT_CM)"
      ]
    },
    {
      "cell_type": "code",
      "execution_count": null,
      "id": "664c1a7a-c4b2-4858-848a-317ad687d6d5",
      "metadata": {
        "scrolled": true,
        "id": "664c1a7a-c4b2-4858-848a-317ad687d6d5"
      },
      "outputs": [],
      "source": [
        "metrics.RocCurveDisplay.from_estimator(clfDT, X_test, y_test)\n",
        "plt.show()"
      ]
    },
    {
      "cell_type": "code",
      "execution_count": null,
      "id": "0d50d62f-eed6-4339-ad3c-a7d4354ae283",
      "metadata": {
        "colab": {
          "base_uri": "https://localhost:8080/"
        },
        "id": "0d50d62f-eed6-4339-ad3c-a7d4354ae283",
        "outputId": "6008113f-ba9c-41d9-f9fd-f82a934e9abe"
      },
      "outputs": [
        {
          "output_type": "stream",
          "name": "stdout",
          "text": [
            "              precision    recall  f1-score   support\n",
            "\n",
            "      Benign       0.93      0.97      0.95       185\n",
            "   Malignant       0.93      0.86      0.90        95\n",
            "\n",
            "    accuracy                           0.93       280\n",
            "   macro avg       0.93      0.92      0.92       280\n",
            "weighted avg       0.93      0.93      0.93       280\n",
            "\n"
          ]
        }
      ],
      "source": [
        "from sklearn.metrics import classification_report\n",
        "print(classification_report(y_test, pred, target_names=[\"Benign\", \"Malignant\"]))"
      ]
    },
    {
      "cell_type": "markdown",
      "id": "b9d5f8e0-49c2-4618-8cfb-22304976000d",
      "metadata": {
        "id": "b9d5f8e0-49c2-4618-8cfb-22304976000d"
      },
      "source": [
        "#### Remark:  different ways of computing the averages in multiple classification (arbitrary number of classes)\n",
        " * \"macro\" = each class will have the same contribution (weight) to the average disregarding its size; the macro average is the arithmetic mean of the individual class related to precision, memory, and f1 score.\n",
        " *\n",
        "\"weighted= it \" accounts for class imbalance by computing the average of binary metrics in which each class’s score is weighted by its presence in the true data sample. *\n",
        "\n",
        "\"mic= each instance will have the same contribution (weight) to the average; e.g. the micro average precision is the sum of true positives for a single class divided by the sum of predicted positives for all classes.red."
      ]
    },
    {
      "cell_type": "code",
      "execution_count": null,
      "id": "c350df3b-a4ca-47c7-9985-621d33315a2a",
      "metadata": {
        "colab": {
          "base_uri": "https://localhost:8080/"
        },
        "id": "c350df3b-a4ca-47c7-9985-621d33315a2a",
        "outputId": "c1aaa33d-a104-4795-b2bc-211c638e8d71"
      },
      "outputs": [
        {
          "output_type": "stream",
          "name": "stdout",
          "text": [
            "mean acc= 0.9442443064182194 stdev acc= 0.02955127374447745\n"
          ]
        }
      ],
      "source": [
        "# evaluation of the classification model using cross-validation\n",
        "from sklearn.model_selection import cross_val_score\n",
        "clfDT_CV = tree.DecisionTreeClassifier()\n",
        "accuracy_CV10 = cross_val_score(clfDT_CV, X2, y2, cv=10)\n",
        "print(\"mean acc=\",np.mean(accuracy_CV10), \"stdev acc=\", np.std(accuracy_CV10))"
      ]
    },
    {
      "cell_type": "markdown",
      "id": "bca1eabc-047c-4ba3-973f-f6e17c62f15a",
      "metadata": {
        "id": "bca1eabc-047c-4ba3-973f-f6e17c62f15a"
      },
      "source": [
        "#### Exercise 1 (Classification trees for breast-w dataset)\n",
        "\n",
        " * Using the confusion matrix compute the sensitivity, specificity, recall, precision and F1-score for clfDT and compare with those reported in the Classification Report/ Calculati sensitivitatea, senzitivitatea, precizia, rata de regasire si scorul F1 folosind matricea de confuzie si comparati cu valorile returnate de classification_report\n",
        " * Analyze the influence of the number of folds on the metrics obtained by cross-validation (cv in {5, 10, 20})\n",
        " * Identify the most relevant attribute. Hint: use clfDT.feature_importances_  to collect the importance of each attribute (higher value means higher importance)\n",
        " * Analyze the influence of the following parameters of DecisionTreeClassifier (https://scikit-learn.org/stable/modules/generated/sklearn.tree.DecisionTreeClassifier.html#sklearn-tree-decisiontreeclassifier)\n",
        "   * splitting ''criterion'': {\"gini\", \"entropy\", \"log_loss\"}\n",
        "   * ''splitter'' variant:  {\"best\", \"random\"}"
      ]
    },
    {
      "cell_type": "code",
      "execution_count": null,
      "id": "13676dba-59d6-446f-b3c5-96ed108376ba",
      "metadata": {
        "colab": {
          "base_uri": "https://localhost:8080/",
          "height": 331
        },
        "id": "13676dba-59d6-446f-b3c5-96ed108376ba",
        "outputId": "29fbc3f9-8161-4d96-c641-86dc2e0c164a"
      },
      "outputs": [
        {
          "output_type": "execute_result",
          "data": {
            "text/plain": [
              "                     Attr  Importance\n",
              "2   Cell_Shape_Uniformity    0.724968\n",
              "6         Bland_Chromatin    0.100798\n",
              "5             Bare_Nuclei    0.054615\n",
              "0         Clump_Thickness    0.045797\n",
              "4    Single_Epi_Cell_Size    0.033803\n",
              "7         Normal_Nucleoli    0.030676\n",
              "3       Marginal_Adhesion    0.009344\n",
              "1    Cell_Size_Uniformity    0.000000\n",
              "8                 Mitoses    0.000000"
            ],
            "text/html": [
              "\n",
              "  <div id=\"df-a62ac05f-15b3-4959-af48-ccddaf82f385\" class=\"colab-df-container\">\n",
              "    <div>\n",
              "<style scoped>\n",
              "    .dataframe tbody tr th:only-of-type {\n",
              "        vertical-align: middle;\n",
              "    }\n",
              "\n",
              "    .dataframe tbody tr th {\n",
              "        vertical-align: top;\n",
              "    }\n",
              "\n",
              "    .dataframe thead th {\n",
              "        text-align: right;\n",
              "    }\n",
              "</style>\n",
              "<table border=\"1\" class=\"dataframe\">\n",
              "  <thead>\n",
              "    <tr style=\"text-align: right;\">\n",
              "      <th></th>\n",
              "      <th>Attr</th>\n",
              "      <th>Importance</th>\n",
              "    </tr>\n",
              "  </thead>\n",
              "  <tbody>\n",
              "    <tr>\n",
              "      <th>2</th>\n",
              "      <td>Cell_Shape_Uniformity</td>\n",
              "      <td>0.724968</td>\n",
              "    </tr>\n",
              "    <tr>\n",
              "      <th>6</th>\n",
              "      <td>Bland_Chromatin</td>\n",
              "      <td>0.100798</td>\n",
              "    </tr>\n",
              "    <tr>\n",
              "      <th>5</th>\n",
              "      <td>Bare_Nuclei</td>\n",
              "      <td>0.054615</td>\n",
              "    </tr>\n",
              "    <tr>\n",
              "      <th>0</th>\n",
              "      <td>Clump_Thickness</td>\n",
              "      <td>0.045797</td>\n",
              "    </tr>\n",
              "    <tr>\n",
              "      <th>4</th>\n",
              "      <td>Single_Epi_Cell_Size</td>\n",
              "      <td>0.033803</td>\n",
              "    </tr>\n",
              "    <tr>\n",
              "      <th>7</th>\n",
              "      <td>Normal_Nucleoli</td>\n",
              "      <td>0.030676</td>\n",
              "    </tr>\n",
              "    <tr>\n",
              "      <th>3</th>\n",
              "      <td>Marginal_Adhesion</td>\n",
              "      <td>0.009344</td>\n",
              "    </tr>\n",
              "    <tr>\n",
              "      <th>1</th>\n",
              "      <td>Cell_Size_Uniformity</td>\n",
              "      <td>0.000000</td>\n",
              "    </tr>\n",
              "    <tr>\n",
              "      <th>8</th>\n",
              "      <td>Mitoses</td>\n",
              "      <td>0.000000</td>\n",
              "    </tr>\n",
              "  </tbody>\n",
              "</table>\n",
              "</div>\n",
              "    <div class=\"colab-df-buttons\">\n",
              "\n",
              "  <div class=\"colab-df-container\">\n",
              "    <button class=\"colab-df-convert\" onclick=\"convertToInteractive('df-a62ac05f-15b3-4959-af48-ccddaf82f385')\"\n",
              "            title=\"Convert this dataframe to an interactive table.\"\n",
              "            style=\"display:none;\">\n",
              "\n",
              "  <svg xmlns=\"http://www.w3.org/2000/svg\" height=\"24px\" viewBox=\"0 -960 960 960\">\n",
              "    <path d=\"M120-120v-720h720v720H120Zm60-500h600v-160H180v160Zm220 220h160v-160H400v160Zm0 220h160v-160H400v160ZM180-400h160v-160H180v160Zm440 0h160v-160H620v160ZM180-180h160v-160H180v160Zm440 0h160v-160H620v160Z\"/>\n",
              "  </svg>\n",
              "    </button>\n",
              "\n",
              "  <style>\n",
              "    .colab-df-container {\n",
              "      display:flex;\n",
              "      gap: 12px;\n",
              "    }\n",
              "\n",
              "    .colab-df-convert {\n",
              "      background-color: #E8F0FE;\n",
              "      border: none;\n",
              "      border-radius: 50%;\n",
              "      cursor: pointer;\n",
              "      display: none;\n",
              "      fill: #1967D2;\n",
              "      height: 32px;\n",
              "      padding: 0 0 0 0;\n",
              "      width: 32px;\n",
              "    }\n",
              "\n",
              "    .colab-df-convert:hover {\n",
              "      background-color: #E2EBFA;\n",
              "      box-shadow: 0px 1px 2px rgba(60, 64, 67, 0.3), 0px 1px 3px 1px rgba(60, 64, 67, 0.15);\n",
              "      fill: #174EA6;\n",
              "    }\n",
              "\n",
              "    .colab-df-buttons div {\n",
              "      margin-bottom: 4px;\n",
              "    }\n",
              "\n",
              "    [theme=dark] .colab-df-convert {\n",
              "      background-color: #3B4455;\n",
              "      fill: #D2E3FC;\n",
              "    }\n",
              "\n",
              "    [theme=dark] .colab-df-convert:hover {\n",
              "      background-color: #434B5C;\n",
              "      box-shadow: 0px 1px 3px 1px rgba(0, 0, 0, 0.15);\n",
              "      filter: drop-shadow(0px 1px 2px rgba(0, 0, 0, 0.3));\n",
              "      fill: #FFFFFF;\n",
              "    }\n",
              "  </style>\n",
              "\n",
              "    <script>\n",
              "      const buttonEl =\n",
              "        document.querySelector('#df-a62ac05f-15b3-4959-af48-ccddaf82f385 button.colab-df-convert');\n",
              "      buttonEl.style.display =\n",
              "        google.colab.kernel.accessAllowed ? 'block' : 'none';\n",
              "\n",
              "      async function convertToInteractive(key) {\n",
              "        const element = document.querySelector('#df-a62ac05f-15b3-4959-af48-ccddaf82f385');\n",
              "        const dataTable =\n",
              "          await google.colab.kernel.invokeFunction('convertToInteractive',\n",
              "                                                    [key], {});\n",
              "        if (!dataTable) return;\n",
              "\n",
              "        const docLinkHtml = 'Like what you see? Visit the ' +\n",
              "          '<a target=\"_blank\" href=https://colab.research.google.com/notebooks/data_table.ipynb>data table notebook</a>'\n",
              "          + ' to learn more about interactive tables.';\n",
              "        element.innerHTML = '';\n",
              "        dataTable['output_type'] = 'display_data';\n",
              "        await google.colab.output.renderOutput(dataTable, element);\n",
              "        const docLink = document.createElement('div');\n",
              "        docLink.innerHTML = docLinkHtml;\n",
              "        element.appendChild(docLink);\n",
              "      }\n",
              "    </script>\n",
              "  </div>\n",
              "\n",
              "\n",
              "<div id=\"df-6d12aa1d-b731-404a-a2fe-e2112534919b\">\n",
              "  <button class=\"colab-df-quickchart\" onclick=\"quickchart('df-6d12aa1d-b731-404a-a2fe-e2112534919b')\"\n",
              "            title=\"Suggest charts\"\n",
              "            style=\"display:none;\">\n",
              "\n",
              "<svg xmlns=\"http://www.w3.org/2000/svg\" height=\"24px\"viewBox=\"0 0 24 24\"\n",
              "     width=\"24px\">\n",
              "    <g>\n",
              "        <path d=\"M19 3H5c-1.1 0-2 .9-2 2v14c0 1.1.9 2 2 2h14c1.1 0 2-.9 2-2V5c0-1.1-.9-2-2-2zM9 17H7v-7h2v7zm4 0h-2V7h2v10zm4 0h-2v-4h2v4z\"/>\n",
              "    </g>\n",
              "</svg>\n",
              "  </button>\n",
              "\n",
              "<style>\n",
              "  .colab-df-quickchart {\n",
              "      --bg-color: #E8F0FE;\n",
              "      --fill-color: #1967D2;\n",
              "      --hover-bg-color: #E2EBFA;\n",
              "      --hover-fill-color: #174EA6;\n",
              "      --disabled-fill-color: #AAA;\n",
              "      --disabled-bg-color: #DDD;\n",
              "  }\n",
              "\n",
              "  [theme=dark] .colab-df-quickchart {\n",
              "      --bg-color: #3B4455;\n",
              "      --fill-color: #D2E3FC;\n",
              "      --hover-bg-color: #434B5C;\n",
              "      --hover-fill-color: #FFFFFF;\n",
              "      --disabled-bg-color: #3B4455;\n",
              "      --disabled-fill-color: #666;\n",
              "  }\n",
              "\n",
              "  .colab-df-quickchart {\n",
              "    background-color: var(--bg-color);\n",
              "    border: none;\n",
              "    border-radius: 50%;\n",
              "    cursor: pointer;\n",
              "    display: none;\n",
              "    fill: var(--fill-color);\n",
              "    height: 32px;\n",
              "    padding: 0;\n",
              "    width: 32px;\n",
              "  }\n",
              "\n",
              "  .colab-df-quickchart:hover {\n",
              "    background-color: var(--hover-bg-color);\n",
              "    box-shadow: 0 1px 2px rgba(60, 64, 67, 0.3), 0 1px 3px 1px rgba(60, 64, 67, 0.15);\n",
              "    fill: var(--button-hover-fill-color);\n",
              "  }\n",
              "\n",
              "  .colab-df-quickchart-complete:disabled,\n",
              "  .colab-df-quickchart-complete:disabled:hover {\n",
              "    background-color: var(--disabled-bg-color);\n",
              "    fill: var(--disabled-fill-color);\n",
              "    box-shadow: none;\n",
              "  }\n",
              "\n",
              "  .colab-df-spinner {\n",
              "    border: 2px solid var(--fill-color);\n",
              "    border-color: transparent;\n",
              "    border-bottom-color: var(--fill-color);\n",
              "    animation:\n",
              "      spin 1s steps(1) infinite;\n",
              "  }\n",
              "\n",
              "  @keyframes spin {\n",
              "    0% {\n",
              "      border-color: transparent;\n",
              "      border-bottom-color: var(--fill-color);\n",
              "      border-left-color: var(--fill-color);\n",
              "    }\n",
              "    20% {\n",
              "      border-color: transparent;\n",
              "      border-left-color: var(--fill-color);\n",
              "      border-top-color: var(--fill-color);\n",
              "    }\n",
              "    30% {\n",
              "      border-color: transparent;\n",
              "      border-left-color: var(--fill-color);\n",
              "      border-top-color: var(--fill-color);\n",
              "      border-right-color: var(--fill-color);\n",
              "    }\n",
              "    40% {\n",
              "      border-color: transparent;\n",
              "      border-right-color: var(--fill-color);\n",
              "      border-top-color: var(--fill-color);\n",
              "    }\n",
              "    60% {\n",
              "      border-color: transparent;\n",
              "      border-right-color: var(--fill-color);\n",
              "    }\n",
              "    80% {\n",
              "      border-color: transparent;\n",
              "      border-right-color: var(--fill-color);\n",
              "      border-bottom-color: var(--fill-color);\n",
              "    }\n",
              "    90% {\n",
              "      border-color: transparent;\n",
              "      border-bottom-color: var(--fill-color);\n",
              "    }\n",
              "  }\n",
              "</style>\n",
              "\n",
              "  <script>\n",
              "    async function quickchart(key) {\n",
              "      const quickchartButtonEl =\n",
              "        document.querySelector('#' + key + ' button');\n",
              "      quickchartButtonEl.disabled = true;  // To prevent multiple clicks.\n",
              "      quickchartButtonEl.classList.add('colab-df-spinner');\n",
              "      try {\n",
              "        const charts = await google.colab.kernel.invokeFunction(\n",
              "            'suggestCharts', [key], {});\n",
              "      } catch (error) {\n",
              "        console.error('Error during call to suggestCharts:', error);\n",
              "      }\n",
              "      quickchartButtonEl.classList.remove('colab-df-spinner');\n",
              "      quickchartButtonEl.classList.add('colab-df-quickchart-complete');\n",
              "    }\n",
              "    (() => {\n",
              "      let quickchartButtonEl =\n",
              "        document.querySelector('#df-6d12aa1d-b731-404a-a2fe-e2112534919b button');\n",
              "      quickchartButtonEl.style.display =\n",
              "        google.colab.kernel.accessAllowed ? 'block' : 'none';\n",
              "    })();\n",
              "  </script>\n",
              "</div>\n",
              "    </div>\n",
              "  </div>\n"
            ],
            "application/vnd.google.colaboratory.intrinsic+json": {
              "type": "dataframe",
              "variable_name": "dfAttrImportance",
              "summary": "{\n  \"name\": \"dfAttrImportance\",\n  \"rows\": 9,\n  \"fields\": [\n    {\n      \"column\": \"Attr\",\n      \"properties\": {\n        \"dtype\": \"string\",\n        \"num_unique_values\": 9,\n        \"samples\": [\n          \" Cell_Size_Uniformity\",\n          \" Bland_Chromatin\",\n          \" Normal_Nucleoli\"\n        ],\n        \"semantic_type\": \"\",\n        \"description\": \"\"\n      }\n    },\n    {\n      \"column\": \"Importance\",\n      \"properties\": {\n        \"dtype\": \"number\",\n        \"std\": 0.23234622013309658,\n        \"min\": 0.0,\n        \"max\": 0.7249675403947964,\n        \"num_unique_values\": 8,\n        \"samples\": [\n          0.10079793901030848,\n          0.030676055578529426,\n          0.7249675403947964\n        ],\n        \"semantic_type\": \"\",\n        \"description\": \"\"\n      }\n    }\n  ]\n}"
            }
          },
          "metadata": {},
          "execution_count": 18
        }
      ],
      "source": [
        "# Hint: Identify the most relevant attribute\n",
        "dfAttrImportance = pd.DataFrame({\"Attr\":attrNames[:-1], \"Importance\":clfDT.feature_importances_})\n",
        "dfAttrImportance  = dfAttrImportance.sort_values(by=['Importance'], ascending = False)\n",
        "# Which is the most important attribute?\n",
        "dfAttrImportance"
      ]
    },
    {
      "cell_type": "code",
      "execution_count": null,
      "id": "79d8f497-29b1-4d34-bcc9-8765983c1ae1",
      "metadata": {
        "colab": {
          "base_uri": "https://localhost:8080/"
        },
        "id": "79d8f497-29b1-4d34-bcc9-8765983c1ae1",
        "outputId": "e03b9318-048d-4351-c1ef-a810765bd146"
      },
      "outputs": [
        {
          "output_type": "stream",
          "name": "stdout",
          "text": [
            "criterion= gini  split= best  acc= 0.9357142857142857\n",
            "criterion= gini  split= random  acc= 0.9607142857142857\n",
            "criterion= entropy  split= best  acc= 0.9392857142857143\n",
            "criterion= entropy  split= random  acc= 0.9464285714285714\n",
            "criterion= log_loss  split= best  acc= 0.9464285714285714\n",
            "criterion= log_loss  split= random  acc= 0.9464285714285714\n"
          ]
        }
      ],
      "source": [
        "# Hint:  Analyze the influence of criterion and splitter\n",
        "crit = [\"gini\", \"entropy\", \"log_loss\"]\n",
        "split = [\"best\", \"random\"]\n",
        "for c in crit:\n",
        "    for s in split:\n",
        "        clfDT = tree.DecisionTreeClassifier(criterion=c, splitter=s)\n",
        "        clfDT = clfDT.fit(X_train, y_train)\n",
        "        print(\"criterion=\",c,\" split=\",s,\" acc=\",clfDT.score(X_test,y_test))\n",
        "# Run the above sequence 5 times and compare the results;  What do you observe?\n"
      ]
    },
    {
      "cell_type": "markdown",
      "id": "507c8b83-cafe-43c8-b4f0-08fa011f3295",
      "metadata": {
        "id": "507c8b83-cafe-43c8-b4f0-08fa011f3295"
      },
      "source": [
        "####  Decision trees:  visualization and extraction of rules"
      ]
    },
    {
      "cell_type": "code",
      "execution_count": null,
      "id": "8b7c9749",
      "metadata": {
        "id": "8b7c9749"
      },
      "outputs": [],
      "source": [
        "# visualization of the tree / vizualizarea arborelului\n",
        "import graphviz\n",
        "dot_data = tree.export_graphviz(clfDT, out_file=None)\n",
        "graph = graphviz.Source(dot_data)\n",
        "graph\n",
        "graph.render(\"DT_BCW1\")"
      ]
    },
    {
      "cell_type": "code",
      "execution_count": null,
      "id": "63c86d69",
      "metadata": {
        "scrolled": true,
        "id": "63c86d69"
      },
      "outputs": [],
      "source": [
        "# visualization with additional options / altă variantă de vizualizare\n",
        "dot_data = tree.export_graphviz(clfDT, out_file=None,\n",
        "                     feature_names=attrNames[0:9],\n",
        "                     class_names=['benign','malignant'],\n",
        "                     filled=True, rounded=True,\n",
        "                     special_characters=True)\n",
        "graph = graphviz.Source(dot_data)\n",
        "graph\n",
        "graph.render(\"DT_BCW2\")"
      ]
    },
    {
      "cell_type": "markdown",
      "id": "d2fcd109",
      "metadata": {
        "id": "d2fcd109"
      },
      "source": [
        "#### Question:\n",
        " * How many classification rules can be extracted? /  Cate reguli de clasificare pot fi extrase din arbore?\n",
        " * Which is the \"longest\" rule? / Care este cea mai lunga regula?"
      ]
    },
    {
      "cell_type": "code",
      "execution_count": null,
      "id": "e7fbdbbc",
      "metadata": {
        "id": "e7fbdbbc"
      },
      "outputs": [],
      "source": [
        "# textual representation of the decision tree / vizualizare ca text\n",
        "text_representation = tree.export_text(clfDT,\n",
        "                     feature_names=attrNames[0:9])\n",
        "print(text_representation)"
      ]
    },
    {
      "cell_type": "markdown",
      "id": "32beb7fb",
      "metadata": {
        "id": "32beb7fb"
      },
      "source": [
        "#### Decision Trees:  extract the classification rules from a tree / extragerea regulilor de clasificare din arbore"
      ]
    },
    {
      "cell_type": "code",
      "execution_count": null,
      "id": "ebb292c0",
      "metadata": {
        "id": "ebb292c0"
      },
      "outputs": [],
      "source": [
        "# extracting rules from a decision tree\n",
        "# based on https://mljar.com/blog/extract-rules-decision-tree/\n",
        "from sklearn.tree import _tree\n",
        "def get_rules(tree, feature_names, class_names):\n",
        "    tree_ = tree.tree_\n",
        "    feature_name = [\n",
        "        feature_names[i] if i != _tree.TREE_UNDEFINED else \"undefined!\"\n",
        "        for i in tree_.feature\n",
        "    ]\n",
        "\n",
        "    paths = []\n",
        "    path = []\n",
        "\n",
        "    def recurse(node, path, paths):\n",
        "        if tree_.feature[node] != _tree.TREE_UNDEFINED:\n",
        "            name = feature_name[node]\n",
        "            threshold = tree_.threshold[node]\n",
        "            p1, p2 = list(path), list(path)\n",
        "            p1 += [f\"({name} <= {np.round(threshold, 3)})\"]\n",
        "            recurse(tree_.children_left[node], p1, paths)\n",
        "            p2 += [f\"({name} > {np.round(threshold, 3)})\"]\n",
        "            recurse(tree_.children_right[node], p2, paths)\n",
        "        else:\n",
        "            path += [(tree_.value[node], tree_.n_node_samples[node])]\n",
        "            paths += [path]\n",
        "\n",
        "    recurse(0, path, paths)\n",
        "\n",
        "    # sort by samples count\n",
        "    samples_count = [p[-1][1] for p in paths]\n",
        "    ii = list(np.argsort(samples_count))\n",
        "    paths = [paths[i] for i in reversed(ii)]\n",
        "\n",
        "    rules = []\n",
        "    for path in paths:\n",
        "        rule = \"if \"\n",
        "\n",
        "        for p in path[:-1]:\n",
        "            if rule != \"if \":\n",
        "                rule += \" and \"\n",
        "            rule += str(p)\n",
        "        rule += \" then \"\n",
        "        if class_names is None:\n",
        "            rule += \"response: \"+str(np.round(path[-1][0][0][0],3))\n",
        "        else:\n",
        "            classes = path[-1][0][0]\n",
        "            l = np.argmax(classes)\n",
        "            rule += f\"class: {class_names[l]} (proba: {np.round(100.0*classes[l]/np.sum(classes),2)}%)\"\n",
        "        rule += f\" | based on {path[-1][1]:,} samples\"\n",
        "        rules += [rule]\n",
        "\n",
        "    return rules"
      ]
    },
    {
      "cell_type": "code",
      "execution_count": null,
      "id": "7d62e3c6",
      "metadata": {
        "id": "7d62e3c6"
      },
      "outputs": [],
      "source": [
        "rules_clfDT = get_rules(clfDT, attrNames[0:9], ['benign','malignant'])"
      ]
    },
    {
      "cell_type": "markdown",
      "id": "fc48bac0-4a8f-4100-9c3d-496e5bb4237a",
      "metadata": {
        "id": "fc48bac0-4a8f-4100-9c3d-496e5bb4237a"
      },
      "source": [
        "#### Question:\n",
        " * How many classification rules can be extracted? /  Cate reguli de clasificare pot fi extrase din arbore?\n",
        " * Which rule has the larges support? / Care regula are cel mai mare suport?\n",
        " * Which is its support? / Care este suportul regulii?"
      ]
    },
    {
      "cell_type": "markdown",
      "id": "278ee4fa",
      "metadata": {
        "id": "278ee4fa"
      },
      "source": [
        "### 2. k Nearest Neighbours  \n",
        " * the training process consists just in storing the training data\n",
        " * during the prediction stage the output class is the dominant class established based on the k closest elements from the training dataset\n",
        " * scikit learn implementation:  https://scikit-learn.org/stable/modules/generated/sklearn.neighbors.KNeighborsClassifier.html"
      ]
    },
    {
      "cell_type": "code",
      "execution_count": null,
      "id": "2c846eec",
      "metadata": {
        "id": "2c846eec"
      },
      "outputs": [],
      "source": [
        "from sklearn.neighbors import KNeighborsClassifier\n",
        "kNN = KNeighborsClassifier(n_neighbors=5)\n",
        "kNN.fit(X_train, y_train)"
      ]
    },
    {
      "cell_type": "code",
      "execution_count": null,
      "id": "33e982a1",
      "metadata": {
        "id": "33e982a1"
      },
      "outputs": [],
      "source": [
        "# class prediction\n",
        "res_kNN=kNN.predict(X_test)\n",
        "res_kNN"
      ]
    },
    {
      "cell_type": "code",
      "execution_count": null,
      "id": "ef3fd1fd",
      "metadata": {
        "id": "ef3fd1fd"
      },
      "outputs": [],
      "source": [
        "# confusion matrix\n",
        "from sklearn.metrics import confusion_matrix\n",
        "CM_kNN=confusion_matrix(y_test, res_kNN)\n",
        "CM_kNN"
      ]
    },
    {
      "cell_type": "code",
      "execution_count": null,
      "id": "17f950ab",
      "metadata": {
        "id": "17f950ab"
      },
      "outputs": [],
      "source": [
        "# probability distribution of the outputs corresponding to the neighbours / distributia de probabilitate\n",
        "print(kNN.predict_proba(X_test))"
      ]
    },
    {
      "cell_type": "code",
      "execution_count": null,
      "id": "7ad6eec6-84fc-4168-b18e-0e5e84210996",
      "metadata": {
        "id": "7ad6eec6-84fc-4168-b18e-0e5e84210996"
      },
      "outputs": [],
      "source": [
        "from sklearn.metrics import RocCurveDisplay\n",
        "import matplotlib.pyplot as plt\n",
        "RocCurveDisplay.from_estimator(kNN, X_test, y_test)\n",
        "plt.show()"
      ]
    },
    {
      "cell_type": "markdown",
      "id": "276f1527",
      "metadata": {
        "id": "276f1527"
      },
      "source": [
        "#### Exercise 2 (kNN for breast-w dataset):  \n",
        " * Compare the accuracy of the kNN for k in {3,5,7,9} using cross-validation with 10 folds / Comparati acuratetea pentru k in {3,5,7,9} folosind tehnica validarii incrucisate cu 10 felii"
      ]
    },
    {
      "cell_type": "code",
      "execution_count": null,
      "id": "7ee7557c-adbe-4845-abda-5812ea2cc93c",
      "metadata": {
        "colab": {
          "base_uri": "https://localhost:8080/"
        },
        "id": "7ee7557c-adbe-4845-abda-5812ea2cc93c",
        "outputId": "118ac31d-a6f0-4154-9c35-ed973b93bc2b"
      },
      "outputs": [
        {
          "output_type": "stream",
          "name": "stdout",
          "text": [
            "k= 3 mean acc= 0.9614078674948242 stdev acc= 0.039910848014757874\n",
            "k= 5 mean acc= 0.9614078674948241 stdev acc= 0.029983299322067506\n",
            "k= 7 mean acc= 0.9628364389233954 stdev acc= 0.0300862068282578\n",
            "k= 9 mean acc= 0.9599792960662527 stdev acc= 0.030488544226286562\n"
          ]
        }
      ],
      "source": [
        "# Hint:\n",
        "from sklearn.model_selection import cross_val_score\n",
        "for k in [3,5,7,9]:\n",
        "    clfkNN_CV = KNeighborsClassifier(n_neighbors=k)\n",
        "    acckNN_CV = cross_val_score(clfkNN_CV, X2, y2, cv=10)\n",
        "    print(\"k=\",k,\"mean acc=\",np.mean(acckNN_CV), \"stdev acc=\", np.std(acckNN_CV))"
      ]
    },
    {
      "cell_type": "markdown",
      "id": "ed0d7bc1-0207-4135-a65a-1fbaa6f38b65",
      "metadata": {
        "id": "ed0d7bc1-0207-4135-a65a-1fbaa6f38b65"
      },
      "source": [
        "#### Variant: Explicit identification of neighbours using KDTree algorithm / Determinare explicita a vecinilor utilizand KDtree"
      ]
    },
    {
      "cell_type": "code",
      "execution_count": null,
      "id": "827d0963",
      "metadata": {
        "id": "827d0963"
      },
      "outputs": [],
      "source": [
        "# using KD-trees to make the search of the neighbors more efficient / stocare set de antrenare in arbore KD (pt eficientizarea cautarii)\n",
        "from sklearn.neighbors import KDTree\n",
        "kdtree = KDTree(X_train, leaf_size=2)\n",
        "dist, ind = kdtree.query(X_test[:1], k=5)  # find closest k neighbours / determinarea celor mai apropiati k vecini\n",
        "print(ind)  # indices of k closest neighbors / indicii celor mai apropiate k elemente din X_train\n",
        "print(dist)  # distances to k closest neighbors / distantele la cei mai apropiati vecini"
      ]
    },
    {
      "cell_type": "code",
      "execution_count": null,
      "id": "96c985f9",
      "metadata": {
        "id": "96c985f9"
      },
      "outputs": [],
      "source": [
        "# classes of the closest elements in the training set to X_test[1]\n",
        "print(\"Classes for closest neighbors:\", y_train[ind])\n",
        "print(\"True class for X_test[1]:\", y_test[1])"
      ]
    },
    {
      "cell_type": "markdown",
      "id": "129143c4-4c4c-4945-9b2a-e57e20072075",
      "metadata": {
        "id": "129143c4-4c4c-4945-9b2a-e57e20072075"
      },
      "source": [
        "#### Exercise 3 (kNN for breast-w dataset):  \n",
        " * Q1. Write an implementation of kNN using KDTree / Scrieti o implementare a kNN folosind KDTree\n",
        " * Hint:  find the dominant clas from y_train[ind]  / se determina clasa dominanta din y_train[ind]"
      ]
    },
    {
      "cell_type": "markdown",
      "id": "db5a0e9f",
      "metadata": {
        "id": "db5a0e9f"
      },
      "source": [
        "### 3. Naive Bayes classifier / clasificator probabilist\n",
        " * it relies on the computation of conditional probabilities / se bazeaza pe calculul unor probabilitati conditionate\n",
        " * the \"naive\" version is based on the simplifying assumption that the attributes are independent / varianta naiva se bazeaza pe ipoteza de independenta intre atribute\n",
        " * scikit implementation:\n",
        "   * binary features: BernoulliNB - https://scikit-learn.org/stable/modules/generated/sklearn.naive_bayes.BernoulliNB.html#sklearn.naive_bayes.BernoulliNB\n",
        "   * discrete attributes with multiple values: MultinomialNB - https://scikit-learn.org/stable/modules/generated/sklearn.naive_bayes.MultinomialNB.html\n",
        "   * continuous attributes: GaussianNB https://scikit-learn.org/stable/modules/generated/sklearn.naive_bayes.GaussianNB.html#sklearn.naive_bayes.GaussianNB"
      ]
    },
    {
      "cell_type": "code",
      "execution_count": null,
      "id": "fd948542",
      "metadata": {
        "colab": {
          "base_uri": "https://localhost:8080/",
          "height": 74
        },
        "id": "fd948542",
        "outputId": "209967cc-e7b3-4208-8df3-f68c34e832c8"
      },
      "outputs": [
        {
          "output_type": "execute_result",
          "data": {
            "text/plain": [
              "MultinomialNB()"
            ],
            "text/html": [
              "<style>#sk-container-id-1 {color: black;background-color: white;}#sk-container-id-1 pre{padding: 0;}#sk-container-id-1 div.sk-toggleable {background-color: white;}#sk-container-id-1 label.sk-toggleable__label {cursor: pointer;display: block;width: 100%;margin-bottom: 0;padding: 0.3em;box-sizing: border-box;text-align: center;}#sk-container-id-1 label.sk-toggleable__label-arrow:before {content: \"▸\";float: left;margin-right: 0.25em;color: #696969;}#sk-container-id-1 label.sk-toggleable__label-arrow:hover:before {color: black;}#sk-container-id-1 div.sk-estimator:hover label.sk-toggleable__label-arrow:before {color: black;}#sk-container-id-1 div.sk-toggleable__content {max-height: 0;max-width: 0;overflow: hidden;text-align: left;background-color: #f0f8ff;}#sk-container-id-1 div.sk-toggleable__content pre {margin: 0.2em;color: black;border-radius: 0.25em;background-color: #f0f8ff;}#sk-container-id-1 input.sk-toggleable__control:checked~div.sk-toggleable__content {max-height: 200px;max-width: 100%;overflow: auto;}#sk-container-id-1 input.sk-toggleable__control:checked~label.sk-toggleable__label-arrow:before {content: \"▾\";}#sk-container-id-1 div.sk-estimator input.sk-toggleable__control:checked~label.sk-toggleable__label {background-color: #d4ebff;}#sk-container-id-1 div.sk-label input.sk-toggleable__control:checked~label.sk-toggleable__label {background-color: #d4ebff;}#sk-container-id-1 input.sk-hidden--visually {border: 0;clip: rect(1px 1px 1px 1px);clip: rect(1px, 1px, 1px, 1px);height: 1px;margin: -1px;overflow: hidden;padding: 0;position: absolute;width: 1px;}#sk-container-id-1 div.sk-estimator {font-family: monospace;background-color: #f0f8ff;border: 1px dotted black;border-radius: 0.25em;box-sizing: border-box;margin-bottom: 0.5em;}#sk-container-id-1 div.sk-estimator:hover {background-color: #d4ebff;}#sk-container-id-1 div.sk-parallel-item::after {content: \"\";width: 100%;border-bottom: 1px solid gray;flex-grow: 1;}#sk-container-id-1 div.sk-label:hover label.sk-toggleable__label {background-color: #d4ebff;}#sk-container-id-1 div.sk-serial::before {content: \"\";position: absolute;border-left: 1px solid gray;box-sizing: border-box;top: 0;bottom: 0;left: 50%;z-index: 0;}#sk-container-id-1 div.sk-serial {display: flex;flex-direction: column;align-items: center;background-color: white;padding-right: 0.2em;padding-left: 0.2em;position: relative;}#sk-container-id-1 div.sk-item {position: relative;z-index: 1;}#sk-container-id-1 div.sk-parallel {display: flex;align-items: stretch;justify-content: center;background-color: white;position: relative;}#sk-container-id-1 div.sk-item::before, #sk-container-id-1 div.sk-parallel-item::before {content: \"\";position: absolute;border-left: 1px solid gray;box-sizing: border-box;top: 0;bottom: 0;left: 50%;z-index: -1;}#sk-container-id-1 div.sk-parallel-item {display: flex;flex-direction: column;z-index: 1;position: relative;background-color: white;}#sk-container-id-1 div.sk-parallel-item:first-child::after {align-self: flex-end;width: 50%;}#sk-container-id-1 div.sk-parallel-item:last-child::after {align-self: flex-start;width: 50%;}#sk-container-id-1 div.sk-parallel-item:only-child::after {width: 0;}#sk-container-id-1 div.sk-dashed-wrapped {border: 1px dashed gray;margin: 0 0.4em 0.5em 0.4em;box-sizing: border-box;padding-bottom: 0.4em;background-color: white;}#sk-container-id-1 div.sk-label label {font-family: monospace;font-weight: bold;display: inline-block;line-height: 1.2em;}#sk-container-id-1 div.sk-label-container {text-align: center;}#sk-container-id-1 div.sk-container {/* jupyter's `normalize.less` sets `[hidden] { display: none; }` but bootstrap.min.css set `[hidden] { display: none !important; }` so we also need the `!important` here to be able to override the default hidden behavior on the sphinx rendered scikit-learn.org. See: https://github.com/scikit-learn/scikit-learn/issues/21755 */display: inline-block !important;position: relative;}#sk-container-id-1 div.sk-text-repr-fallback {display: none;}</style><div id=\"sk-container-id-1\" class=\"sk-top-container\"><div class=\"sk-text-repr-fallback\"><pre>MultinomialNB()</pre><b>In a Jupyter environment, please rerun this cell to show the HTML representation or trust the notebook. <br />On GitHub, the HTML representation is unable to render, please try loading this page with nbviewer.org.</b></div><div class=\"sk-container\" hidden><div class=\"sk-item\"><div class=\"sk-estimator sk-toggleable\"><input class=\"sk-toggleable__control sk-hidden--visually\" id=\"sk-estimator-id-1\" type=\"checkbox\" checked><label for=\"sk-estimator-id-1\" class=\"sk-toggleable__label sk-toggleable__label-arrow\">MultinomialNB</label><div class=\"sk-toggleable__content\"><pre>MultinomialNB()</pre></div></div></div></div></div>"
            ]
          },
          "metadata": {},
          "execution_count": 27
        }
      ],
      "source": [
        "from sklearn.naive_bayes import MultinomialNB  # for categorical or discrete numerical attributes\n",
        "clfNB = MultinomialNB()\n",
        "clfNB.fit(X_train, y_train)"
      ]
    },
    {
      "cell_type": "code",
      "execution_count": null,
      "id": "b45c0d97",
      "metadata": {
        "id": "b45c0d97"
      },
      "outputs": [],
      "source": [
        "res_clfNB=clfNB.predict(X_test)\n",
        "res_clfNB"
      ]
    },
    {
      "cell_type": "code",
      "execution_count": null,
      "id": "a7e0abe8",
      "metadata": {
        "colab": {
          "base_uri": "https://localhost:8080/"
        },
        "id": "a7e0abe8",
        "outputId": "2aa1e38e-f595-41e7-981f-2fa002eb51f7"
      },
      "outputs": [
        {
          "output_type": "execute_result",
          "data": {
            "text/plain": [
              "0.8857142857142857"
            ]
          },
          "metadata": {},
          "execution_count": 30
        }
      ],
      "source": [
        "clfNB.score(X_test,y_test)"
      ]
    },
    {
      "cell_type": "code",
      "execution_count": null,
      "id": "35c5c65f",
      "metadata": {
        "id": "35c5c65f"
      },
      "outputs": [],
      "source": [
        "from sklearn.naive_bayes import BernoulliNB  # for binary attributes\n",
        "# the predictive attributes should be binarized (binarization threshold is set through binarize)\n",
        "# atributele predictive trebuie binarizate (pragul se stabileste folosind optiunea binarize)\n",
        "clfNBB = BernoulliNB(binarize=5) # for breast-w dataset the threshold should be in [0,10]\n",
        "clfNBB.fit(X_train, y_train)"
      ]
    },
    {
      "cell_type": "code",
      "execution_count": null,
      "id": "0a81c963",
      "metadata": {
        "id": "0a81c963"
      },
      "outputs": [],
      "source": [
        "clfNBB.score(X_test,y_test)"
      ]
    },
    {
      "cell_type": "code",
      "execution_count": null,
      "id": "c0901d06-a360-4a1b-9c3c-75135080d254",
      "metadata": {
        "id": "c0901d06-a360-4a1b-9c3c-75135080d254"
      },
      "outputs": [],
      "source": [
        "from sklearn.metrics import RocCurveDisplay\n",
        "import matplotlib.pyplot as plt\n",
        "RocCurveDisplay.from_estimator(clfNBB, X_test, y_test)\n",
        "plt.show()"
      ]
    },
    {
      "cell_type": "markdown",
      "id": "0247d834",
      "metadata": {
        "id": "0247d834"
      },
      "source": [
        "#### Exercise 4 (Naive Bayes for breast-w dataset):  \n",
        " * Q1. analyze the influence of the threshold used for binarization in BernoulliNB and identify the variant with the highest accuracy on the test dataset / analizati influenta pragului folosit pt binarizare in BernoulliNB si determinati varianta cu cea mai mare acuratete pe setul de testare\n",
        " * Q2. evaluate the accuracy using  cross-validation (with 10 folds) / evaluati acuratetea folosind validare incrucisata (cu 10 felii)"
      ]
    },
    {
      "cell_type": "code",
      "execution_count": null,
      "id": "1b98e99a",
      "metadata": {
        "colab": {
          "base_uri": "https://localhost:8080/"
        },
        "id": "1b98e99a",
        "outputId": "ae8893a6-a4de-49de-a6eb-28e3e9a88e25"
      },
      "outputs": [
        {
          "output_type": "stream",
          "name": "stdout",
          "text": [
            "threshold= 0 acc= 0.9392857142857143\n",
            "threshold= 1 acc= 0.9714285714285714\n",
            "threshold= 2 acc= 0.9678571428571429\n",
            "threshold= 3 acc= 0.9642857142857143\n",
            "threshold= 4 acc= 0.9535714285714286\n",
            "threshold= 5 acc= 0.9321428571428572\n",
            "threshold= 6 acc= 0.9392857142857143\n",
            "threshold= 7 acc= 0.9321428571428572\n",
            "threshold= 8 acc= 0.9071428571428571\n",
            "threshold= 9 acc= 0.6607142857142857\n",
            "threshold= 10 acc= 0.6607142857142857\n"
          ]
        }
      ],
      "source": [
        "# hint for Q1 / indicatie pt Q1\n",
        "for i in range(0,11):\n",
        "    clfNBB = BernoulliNB(binarize=i) # threshold should be in [0,10]\n",
        "    clfNBB.fit(X_train, y_train)\n",
        "    print(\"threshold=\",i,\"acc=\",clfNBB.score(X_test,y_test))"
      ]
    },
    {
      "cell_type": "markdown",
      "id": "d326550b-ce14-47bc-b525-dcf8f684e1a2",
      "metadata": {
        "id": "d326550b-ce14-47bc-b525-dcf8f684e1a2"
      },
      "source": [
        "### 4. Support Vector Machines (EN)\n",
        " * Support Vector Machines rely on the idea of identifying a decision surface which separates the classes such that a large margin between the classes is ensured (it is supposed that the predictive attributes are numerical).\n",
        " *  The margin borders are defined by some of the elements of the training dataset which are called support vectors.\n",
        " *  The coefficients of the decision surface are computed by solving a quadratic optimization problem with constraints (for which there are well established solvers in mathematical programming).\n",
        " *  In order to ensure the generalization capacity some relaxation conditions can be imposed using so-called slack variables – the magnitude of slack variables is controlled through a hyper-parameter (C).\n",
        " *  To obtain nonlinear decision surfaces nonlinear kernel functions are used: (i) radial basis function ('rbf'); (ii) polynomial ('poly'); (iii) sigmoid ('sigmoid')\n",
        " *  The choice of C and of the kernel function are the main design decision in the case of SVMs.\n",
        " *  \n",
        "SVMs are designed for binary classification and they can be extended to multiple classes by applying either one-vs-one (for each pair of classes is constructed a classifier) or one-vs-all (for each class is constructed a classifie strategies\n",
        " *  * scikit learn function: svm.SVC - https://scikit-learn.org/stable/modules/generated/sklearn.svm.SVC.html#sklearn.svm.SVC"
      ]
    },
    {
      "cell_type": "markdown",
      "id": "4b74fcbd-4a82-41d1-b599-bb473e2a1ee5",
      "metadata": {
        "id": "4b74fcbd-4a82-41d1-b599-bb473e2a1ee5"
      },
      "source": [
        "### 4. Support Vector Machines (RO)\n",
        " * Clasificatorii bazati pe vectori suport folosesc ideea identificării unei suprafețe de decizie\n",
        "care separă clasele astfel încât să se asigure o marjă mare între clase (se presupune că atributele predictive sunt numerice).\n",
        " * Marginile zonei de delimitare dintre clase sunt definite de unele elemente din setul de date de antrenare care se numesc vectori suport.\n",
        " * Coeficienții suprafeței de decizie sunt calculați prin rezolvarea unei probleme de optimizare pătratică cu constrângeri (pentru care există algoritmi eficienti în programarea matematică).\n",
        " * Pentru a asigura capacitatea de generalizare, se pot impune anumite condiții de relaxare prin intermediul așa-numitelor variabile de relaxare - mărimea variabilelor de relaxare este controlată printr-un hiperparametru (C).\n",
        " * Pentru a obține suprafețe de decizie neliniare se utilizează funcții nucleu neliniare: (i) funcție cu simetrie radială (\"rbf\"); (ii) polinomală (\"poly\"); (iii) sigmoidă (\"sigmoid\").\n",
        " * Alegerea lui C și a funcției nucleu reprezintă principala decizie de proiectare în cazul SVM-urilor.\n",
        " * SVM-urile sunt concepute pentru probleme de clasificare binara si pot fi extinse pentru clasificare multipla prin reducerea la mai multe probleme de clasificare binara aplicand strategii de tipul one-vs-one sau one-vs-all\n",
        " * scikit learn function: svm.SVC - https://scikit-learn.org/stable/modules/generated/sklearn.svm.SVC.html#sklearn.svm.SVC\n"
      ]
    },
    {
      "cell_type": "code",
      "execution_count": null,
      "id": "4185860b",
      "metadata": {
        "id": "4185860b"
      },
      "outputs": [],
      "source": [
        "from sklearn import svm\n",
        "clfSVM = svm.SVC(kernel='rbf') # rbf (Radial Basis Function) is the default kernel function/ functie nucleu implicita: rbf\n",
        "clfSVM.fit(X_train, y_train)"
      ]
    },
    {
      "cell_type": "code",
      "execution_count": null,
      "id": "7f19237a-21ad-4c85-bdff-6051c4a5b23f",
      "metadata": {
        "id": "7f19237a-21ad-4c85-bdff-6051c4a5b23f"
      },
      "outputs": [],
      "source": [
        "# accuracy on the test dataset / acuratete pe setul de testare\n",
        "clfSVM.score(X_test,y_test)"
      ]
    },
    {
      "cell_type": "code",
      "execution_count": null,
      "id": "647a7ec2-4316-4600-bf2f-40e8ed22a80b",
      "metadata": {
        "id": "647a7ec2-4316-4600-bf2f-40e8ed22a80b"
      },
      "outputs": [],
      "source": [
        "# visualization of the support vectors / vizualizarea vectorilor suport\n",
        "clfSVM.support_vectors_"
      ]
    },
    {
      "cell_type": "markdown",
      "id": "c7ad6047-22d6-4a2d-8edf-15092e6df999",
      "metadata": {
        "id": "c7ad6047-22d6-4a2d-8edf-15092e6df999"
      },
      "source": [
        "#### Exercise 5 (SVM for breast-w dataset)\n",
        " * Q1:\n",
        "does the standardization/scaling improves the performance of SVM? / ajuta standardizarea/scalarea la imbunatatirea performantei clasificatorului\n",
        " * Q2:\n",
        "analyze the influence of the kernel functi on the accuracy and on the number of support vectors’) / analizati influenta functiei nucle asupra acuratetei si asupra numarului de vectori suport\n",
        " * Q3: analyze the influence of the regularization parameter C on the accuracy and on the number of support vectors / analizati influenta parametrului de regularizare asupra acuratetei si asupra numarului de vectori suport’)"
      ]
    },
    {
      "cell_type": "markdown",
      "id": "c0e41a5a",
      "metadata": {
        "id": "c0e41a5a"
      },
      "source": [
        "### 5. Neural Network - Multilayer Perceptron / Retea neuronala - perceptron multinivel\n",
        "* it corresponds to the traditional feedforward neural networks having a layered architecture: one input layer, several (usually up to 3) hidden layers, one output layer / corespund modelelor de retele neuronale de tip feedforward cu arhitectura pe nivele: un nivel de intrare, cateva (de regula cel mult 3) nivele ascunse, un nivel de iesire\n",
        "* it can be used only for numerical attributes / pot fi utilizate doar pt atribute numerice unitlarization term\n"
      ]
    },
    {
      "cell_type": "markdown",
      "id": "d632e4c2-028a-4d3e-a71c-0cd7f4244c29",
      "metadata": {
        "id": "d632e4c2-028a-4d3e-a71c-0cd7f4244c29"
      },
      "source": [
        "Step 1. The choice of the architecture / Pas 1. Alegerea arhitecturii\n",
        " * the number of input units = the number of predictive attributes / nr unitati de intrare = numar de atribute predictive  \n",
        " * the number of hidden layers and units / numarul si dimensiunea nivelelor ascunse\n",
        "   * it depends on the complexity of the problem (there is no unique solution/ best recommendation) / depinde de complexitatea problemei (nu exista reguli ideale de alegere)\n",
        "   * simplest approach: use only one hidden layer / cea mai simpla varianta: un singur nivel ascuns\n",
        " * number of output units (number of classes) / numar de unitati de iesire (numar de clase)"
      ]
    },
    {
      "cell_type": "markdown",
      "id": "16204e53-d0bd-4f9c-86af-2271d6c1a3b2",
      "metadata": {
        "id": "16204e53-d0bd-4f9c-86af-2271d6c1a3b2"
      },
      "source": [
        "Step 2.  The choice of the activation functions / Pas 2. Alegerea functiilor de activare\n",
        " * the hidden units have sigmoidal activation functions (logistic or tanh function but also ReLU=Restricted Linear Unit) / unitatile ascunse au functii sigmoidale de activare (logistica, tanh, ReLU)\n",
        " * the output units have sigmoidal (logistic function is the default variant) or linear functions or softmax (output of unit i: $y_i=exp(z_i)/(exp(z_1)+...+ exp(z_K))$ – in the case of K classes, i.e. K output units) / unitatile de iesire au functii sigmoidale, liniare sau softmax"
      ]
    },
    {
      "cell_type": "markdown",
      "id": "641fc772-acc9-40cf-b5cb-36e1ba7fc543",
      "metadata": {
        "id": "641fc772-acc9-40cf-b5cb-36e1ba7fc543"
      },
      "source": [
        "Step 3. The choice of the training algorithm and of its parameters. In the case of the backpropagation algorithm the typical parameters are: / Pas 3. Alegerea algoritmului de antrenare si a parametrilor sai. In cazul algoritmului BackPropagation se stabilesc:\n",
        " * Number of training epochs / Numarul de epoci de antrenare\n",
        " * Learning rate / Rata de invatare\n",
        " * Loss function / Functia de eroare\n",
        " * Coefficient of the momentum term / Coeficientul termenului moment\n",
        " * Coefficient corresponding to the regularization term / Coeficient corespunzator termenului de regularizare"
      ]
    },
    {
      "cell_type": "code",
      "execution_count": null,
      "id": "2e833df5",
      "metadata": {
        "id": "2e833df5"
      },
      "outputs": [],
      "source": [
        "from sklearn.neural_network import MLPClassifier\n",
        "clfMLP = MLPClassifier(solver='lbfgs', alpha=1e-5, hidden_layer_sizes=(5, 2), random_state=1)\n",
        "clfMLP.fit(X_train, y_train)"
      ]
    },
    {
      "cell_type": "code",
      "execution_count": null,
      "id": "ebb0e8c7",
      "metadata": {
        "id": "ebb0e8c7"
      },
      "outputs": [],
      "source": [
        "clfMLP.score(X_test,y_test)"
      ]
    },
    {
      "cell_type": "markdown",
      "id": "ef4df1c8",
      "metadata": {
        "id": "ef4df1c8"
      },
      "source": [
        "#### Exercise 6 (MLP for breast-w dataset):\n",
        "1. To which classifier might correspond this accuracy? / Carui clasificator i-ar putea corespunde acuratetea de mai sus?\n",
        "2. Which might be the causes for this lack of performance for MLP? / Care poate fi cauzelei lipsei de performanta?"
      ]
    },
    {
      "cell_type": "code",
      "execution_count": null,
      "id": "1d3da497",
      "metadata": {
        "id": "1d3da497"
      },
      "outputs": [],
      "source": [
        "from sklearn import preprocessing\n",
        "stdScaler = preprocessing.StandardScaler()\n",
        "stdScaler.fit(X2)\n",
        "Xstd=stdScaler.transform(X2)"
      ]
    },
    {
      "cell_type": "code",
      "execution_count": null,
      "id": "a21c6ef4",
      "metadata": {
        "id": "a21c6ef4"
      },
      "outputs": [],
      "source": [
        "Xstd_train, Xstd_test, y_train, y_test = train_test_split(Xstd, y2, test_size=0.4, random_state=42)"
      ]
    },
    {
      "cell_type": "code",
      "execution_count": null,
      "id": "fb5b0dd9",
      "metadata": {
        "id": "fb5b0dd9"
      },
      "outputs": [],
      "source": [
        "clfMLPstd = MLPClassifier(solver='lbfgs', alpha=1e-5, hidden_layer_sizes=(5,2), random_state=1)\n",
        "clfMLPstd.fit(Xstd_train, y_train)"
      ]
    },
    {
      "cell_type": "code",
      "execution_count": null,
      "id": "cbb4c523",
      "metadata": {
        "id": "cbb4c523"
      },
      "outputs": [],
      "source": [
        "clfMLPstd.score(Xstd_test,y_test)"
      ]
    },
    {
      "cell_type": "markdown",
      "id": "0af335ce",
      "metadata": {
        "id": "0af335ce"
      },
      "source": [
        "#### Exercise 7 (MLP for breast-w dataset):\n",
        " * Analyze the impact of MinMaxScaler  / Analizati impactul scalarii valorilor atributelor predictive si al numarului de unitati ascunse\n",
        " * Analyze the influence of the architecture (number of hidden neurons)/ Analizati influenta numarului de unitati ascunse"
      ]
    },
    {
      "cell_type": "markdown",
      "id": "743e6fb3-3918-41d6-b0be-4981aa1a911e",
      "metadata": {
        "id": "743e6fb3-3918-41d6-b0be-4981aa1a911e"
      },
      "source": [
        "### Homework (EN)\n",
        "\n",
        "Compare the performance of  classifiers based on (i) decision tree; (ii) kNN; (iii) Naïve Bayes; (iv) support vector machine; (v) neural network.  Discuss the applicability of each method and apply the required pre-processing methods.\n",
        "\n",
        "Datasets (one at your choice):\n",
        "a)\tHotel reservations (kaggle)\n",
        "b)\tHome loans (kaggle)\n",
        "c)\tAirlines delay (kaggle)\n",
        "d)\tJob placement (kaggle)\n",
        "e)\tSuperstore marketing (kaggle)\n",
        "f)\tAnother dataset (the choice should be motivated)\n",
        "\n"
      ]
    },
    {
      "cell_type": "markdown",
      "id": "a392b27c-52dd-44f1-96d1-323f07ad992a",
      "metadata": {
        "id": "a392b27c-52dd-44f1-96d1-323f07ad992a"
      },
      "source": [
        "### Tema (RO)\n",
        "\n",
        "Comparati urmatoarele modele de clasificare (i) arbore de decizie; (ii) kNN; (iii) Naïve Bayes; (iv) support vector machine; (v) retea neuronala. Discutati aplicabilitatea fiecarei metode si aplicati metodele de pre-procesare adecvate.\n",
        "\n",
        "Selectati unul dintre seturile de date: a) Hotel reservations (kaggle) b) Home loans (kaggle) c) Airlines delay (kaggle) d) Job placement (kaggle) e) Superstore marketing (kaggle) f) Alt set (motivati alegerea)"
      ]
    },
    {
      "cell_type": "markdown",
      "id": "245ad967-f812-4b2b-ba87-b4b74093178e",
      "metadata": {
        "id": "245ad967-f812-4b2b-ba87-b4b74093178e"
      },
      "source": [
        "#### Additional example:  multiple classification - autos dataset"
      ]
    },
    {
      "cell_type": "code",
      "execution_count": null,
      "id": "2a761cae-0a73-4208-b8e0-51a9229aba18",
      "metadata": {
        "id": "2a761cae-0a73-4208-b8e0-51a9229aba18"
      },
      "outputs": [],
      "source": [
        "data = loadarff('autos.arff')\n",
        "dfAutos = pd.DataFrame(data[0])\n",
        "attrAutos = list(dfAutos)\n",
        "categAttr = np.append(attrAutos[1:8],[\"fuel-system\",\"symboling\"])\n",
        "for a in categAttr:\n",
        "    dfAutos[a]=dfAutos[a].apply(lambda x: x.decode('utf-8'))\n",
        "from sklearn.impute import SimpleImputer\n",
        "imp = SimpleImputer(missing_values=np.nan, strategy='most_frequent')\n",
        "AutosImp = imp.fit_transform(dfAutos) # apply the imputation model / aplicarea modelului de imputare"
      ]
    },
    {
      "cell_type": "code",
      "execution_count": null,
      "id": "22d7139d-90a0-4598-a08d-ed312afbfb55",
      "metadata": {
        "id": "22d7139d-90a0-4598-a08d-ed312afbfb55"
      },
      "outputs": [],
      "source": [
        "Xautos, yautos = AutosImp[:,0:24], AutosImp[:,25]"
      ]
    },
    {
      "cell_type": "code",
      "execution_count": null,
      "id": "f0f17596-838f-4817-b201-1dfca600b26c",
      "metadata": {
        "id": "f0f17596-838f-4817-b201-1dfca600b26c"
      },
      "outputs": [],
      "source": [
        "from sklearn import preprocessing\n",
        "enc = preprocessing.OrdinalEncoder()\n",
        "enc.fit(yautos.reshape(-1,1))  # OrdinalEncoder expect an 2D array / OrdinalEncoder asteapta tablou 2D\n",
        "yautos2=enc.transform(yautos.reshape(-1,1)).flatten()\n",
        "enc.fit(Xautos)\n",
        "Xautos2=enc.transform(Xautos)"
      ]
    },
    {
      "cell_type": "code",
      "execution_count": null,
      "id": "7e1fab67-c05d-41ce-8303-14e9acb40a1b",
      "metadata": {
        "id": "7e1fab67-c05d-41ce-8303-14e9acb40a1b"
      },
      "outputs": [],
      "source": [
        "clfDT = tree.DecisionTreeClassifier()\n",
        "accDT_CV = cross_val_score(clfDT, Xautos2, yautos2, cv=3)\n",
        "clfkNN = KNeighborsClassifier(n_neighbors=5)\n",
        "acckNN_CV = cross_val_score(kNN, Xautos2, yautos2, cv=3)\n",
        "clfNB = MultinomialNB()\n",
        "accNB_CV = cross_val_score(clfNB, Xautos2, yautos2, cv=3)"
      ]
    },
    {
      "cell_type": "code",
      "execution_count": null,
      "id": "94e11c7d-b93e-49de-b865-d1f238d40c39",
      "metadata": {
        "id": "94e11c7d-b93e-49de-b865-d1f238d40c39"
      },
      "outputs": [],
      "source": [
        "accDT_CV"
      ]
    },
    {
      "cell_type": "code",
      "execution_count": null,
      "id": "fb3afc56-f2f6-4600-b573-194442e04ea3",
      "metadata": {
        "id": "fb3afc56-f2f6-4600-b573-194442e04ea3"
      },
      "outputs": [],
      "source": [
        "acckNN_CV"
      ]
    },
    {
      "cell_type": "code",
      "execution_count": null,
      "id": "d7b695b1-dd9f-45eb-aeab-f1f85a1170db",
      "metadata": {
        "id": "d7b695b1-dd9f-45eb-aeab-f1f85a1170db"
      },
      "outputs": [],
      "source": [
        "accNB_CV"
      ]
    },
    {
      "cell_type": "code",
      "execution_count": null,
      "id": "ea097666-a9d3-4ac1-9694-29d382b64350",
      "metadata": {
        "id": "ea097666-a9d3-4ac1-9694-29d382b64350"
      },
      "outputs": [],
      "source": [
        "from sklearn.model_selection import train_test_split\n",
        "Xautos_train, Xautos_test, yautos_train, yautos_test = train_test_split(Xautos2, yautos2, test_size=0.4, random_state=42)"
      ]
    },
    {
      "cell_type": "code",
      "execution_count": null,
      "id": "f126e277-26d5-4d71-ad9a-a653f0165d9b",
      "metadata": {
        "id": "f126e277-26d5-4d71-ad9a-a653f0165d9b"
      },
      "outputs": [],
      "source": [
        "from sklearn import metrics\n",
        "clfDT = clfDT.fit(Xautos_train, yautos_train)\n",
        "pred = clfDT.predict(Xautos_test) # prediction on testing dataset / predictie pe setul de testare\n",
        "clfDT_acc = clfDT.score(Xautos_test, yautos_test)\n",
        "print(\"Accuracy=\", clfDT_acc)"
      ]
    },
    {
      "cell_type": "code",
      "execution_count": null,
      "id": "881a5db9-41bc-4244-a56a-14ced2479611",
      "metadata": {
        "id": "881a5db9-41bc-4244-a56a-14ced2479611"
      },
      "outputs": [],
      "source": [
        "clfkNN = clfkNN.fit(Xautos_train, yautos_train)\n",
        "pred = clfkNN.predict(Xautos_test) # prediction on testing dataset / predictie pe setul de testare\n",
        "clfkNN_acc = clfkNN.score(Xautos_test, yautos_test)\n",
        "print(\"Accuracy=\", clfkNN_acc)"
      ]
    },
    {
      "cell_type": "code",
      "execution_count": null,
      "id": "872a6812-bc8b-49be-9bc7-4f2c10fc0872",
      "metadata": {
        "id": "872a6812-bc8b-49be-9bc7-4f2c10fc0872"
      },
      "outputs": [],
      "source": [
        "clfNB = clfNB.fit(Xautos_train, yautos_train)\n",
        "pred = clfNB.predict(Xautos_test) # prediction on testing dataset / predictie pe setul de testare\n",
        "clfNB_acc = clfNB.score(Xautos_test, yautos_test)\n",
        "print(\"Accuracy=\", clfNB_acc)"
      ]
    },
    {
      "cell_type": "markdown",
      "id": "3fd5d454-5158-4556-8259-de9c5c9d2deb",
      "metadata": {
        "id": "3fd5d454-5158-4556-8259-de9c5c9d2deb"
      },
      "source": [
        "#### Questions:\n",
        " * Is the ordinal encoder appropriate for the autos dataset?\n",
        " * What is happening if the numerical attributes are not encoded?"
      ]
    }
  ],
  "metadata": {
    "kernelspec": {
      "display_name": "Python 3 (ipykernel)",
      "language": "python",
      "name": "python3"
    },
    "language_info": {
      "codemirror_mode": {
        "name": "ipython",
        "version": 3
      },
      "file_extension": ".py",
      "mimetype": "text/x-python",
      "name": "python",
      "nbconvert_exporter": "python",
      "pygments_lexer": "ipython3",
      "version": "3.11.5"
    },
    "colab": {
      "provenance": []
    }
  },
  "nbformat": 4,
  "nbformat_minor": 5
}