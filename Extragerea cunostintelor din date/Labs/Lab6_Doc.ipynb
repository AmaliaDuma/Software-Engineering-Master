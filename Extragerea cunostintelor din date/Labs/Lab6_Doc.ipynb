{
 "cells": [
  {
   "cell_type": "markdown",
   "metadata": {},
   "source": [
    "## Lab 6 - Data mining - regression models/ modele de regresie"
   ]
  },
  {
   "cell_type": "code",
   "execution_count": 1,
   "metadata": {},
   "outputs": [],
   "source": [
    "import pandas as pd\n",
    "import numpy as np\n",
    "from scipy.io import arff\n",
    "from sklearn.model_selection import train_test_split\n",
    "from sklearn.metrics import mean_squared_error, r2_score # performance measures"
   ]
  },
  {
   "cell_type": "markdown",
   "metadata": {},
   "source": [
    "### Example:  car price estimation (file autoPrice - UCI Machine Learning)/ estimarea prețului unei mașini - setul de date autoPrice.arff"
   ]
  },
  {
   "cell_type": "code",
   "execution_count": 2,
   "metadata": {},
   "outputs": [],
   "source": [
    "data = arff.loadarff('autoPrice.arff')\n",
    "df = pd.DataFrame(data[0])"
   ]
  },
  {
   "cell_type": "code",
   "execution_count": 3,
   "metadata": {},
   "outputs": [
    {
     "data": {
      "text/html": [
       "<div>\n",
       "<style scoped>\n",
       "    .dataframe tbody tr th:only-of-type {\n",
       "        vertical-align: middle;\n",
       "    }\n",
       "\n",
       "    .dataframe tbody tr th {\n",
       "        vertical-align: top;\n",
       "    }\n",
       "\n",
       "    .dataframe thead th {\n",
       "        text-align: right;\n",
       "    }\n",
       "</style>\n",
       "<table border=\"1\" class=\"dataframe\">\n",
       "  <thead>\n",
       "    <tr style=\"text-align: right;\">\n",
       "      <th></th>\n",
       "      <th>symboling</th>\n",
       "      <th>normalized-losses</th>\n",
       "      <th>wheel-base</th>\n",
       "      <th>length</th>\n",
       "      <th>width</th>\n",
       "      <th>height</th>\n",
       "      <th>curb-weight</th>\n",
       "      <th>engine-size</th>\n",
       "      <th>bore</th>\n",
       "      <th>stroke</th>\n",
       "      <th>compression-ratio</th>\n",
       "      <th>horsepower</th>\n",
       "      <th>peak-rpm</th>\n",
       "      <th>city-mpg</th>\n",
       "      <th>highway-mpg</th>\n",
       "      <th>class</th>\n",
       "    </tr>\n",
       "  </thead>\n",
       "  <tbody>\n",
       "    <tr>\n",
       "      <th>0</th>\n",
       "      <td>2.0</td>\n",
       "      <td>164.0</td>\n",
       "      <td>99.8</td>\n",
       "      <td>176.6</td>\n",
       "      <td>66.2</td>\n",
       "      <td>54.3</td>\n",
       "      <td>2337.0</td>\n",
       "      <td>109.0</td>\n",
       "      <td>3.19</td>\n",
       "      <td>3.40</td>\n",
       "      <td>10.0</td>\n",
       "      <td>102.0</td>\n",
       "      <td>5500.0</td>\n",
       "      <td>24.0</td>\n",
       "      <td>30.0</td>\n",
       "      <td>13950.0</td>\n",
       "    </tr>\n",
       "    <tr>\n",
       "      <th>1</th>\n",
       "      <td>2.0</td>\n",
       "      <td>164.0</td>\n",
       "      <td>99.4</td>\n",
       "      <td>176.6</td>\n",
       "      <td>66.4</td>\n",
       "      <td>54.3</td>\n",
       "      <td>2824.0</td>\n",
       "      <td>136.0</td>\n",
       "      <td>3.19</td>\n",
       "      <td>3.40</td>\n",
       "      <td>8.0</td>\n",
       "      <td>115.0</td>\n",
       "      <td>5500.0</td>\n",
       "      <td>18.0</td>\n",
       "      <td>22.0</td>\n",
       "      <td>17450.0</td>\n",
       "    </tr>\n",
       "    <tr>\n",
       "      <th>2</th>\n",
       "      <td>1.0</td>\n",
       "      <td>158.0</td>\n",
       "      <td>105.8</td>\n",
       "      <td>192.7</td>\n",
       "      <td>71.4</td>\n",
       "      <td>55.7</td>\n",
       "      <td>2844.0</td>\n",
       "      <td>136.0</td>\n",
       "      <td>3.19</td>\n",
       "      <td>3.40</td>\n",
       "      <td>8.5</td>\n",
       "      <td>110.0</td>\n",
       "      <td>5500.0</td>\n",
       "      <td>19.0</td>\n",
       "      <td>25.0</td>\n",
       "      <td>17710.0</td>\n",
       "    </tr>\n",
       "    <tr>\n",
       "      <th>3</th>\n",
       "      <td>1.0</td>\n",
       "      <td>158.0</td>\n",
       "      <td>105.8</td>\n",
       "      <td>192.7</td>\n",
       "      <td>71.4</td>\n",
       "      <td>55.9</td>\n",
       "      <td>3086.0</td>\n",
       "      <td>131.0</td>\n",
       "      <td>3.13</td>\n",
       "      <td>3.40</td>\n",
       "      <td>8.3</td>\n",
       "      <td>140.0</td>\n",
       "      <td>5500.0</td>\n",
       "      <td>17.0</td>\n",
       "      <td>20.0</td>\n",
       "      <td>23875.0</td>\n",
       "    </tr>\n",
       "    <tr>\n",
       "      <th>4</th>\n",
       "      <td>2.0</td>\n",
       "      <td>192.0</td>\n",
       "      <td>101.2</td>\n",
       "      <td>176.8</td>\n",
       "      <td>64.8</td>\n",
       "      <td>54.3</td>\n",
       "      <td>2395.0</td>\n",
       "      <td>108.0</td>\n",
       "      <td>3.50</td>\n",
       "      <td>2.80</td>\n",
       "      <td>8.8</td>\n",
       "      <td>101.0</td>\n",
       "      <td>5800.0</td>\n",
       "      <td>23.0</td>\n",
       "      <td>29.0</td>\n",
       "      <td>16430.0</td>\n",
       "    </tr>\n",
       "    <tr>\n",
       "      <th>...</th>\n",
       "      <td>...</td>\n",
       "      <td>...</td>\n",
       "      <td>...</td>\n",
       "      <td>...</td>\n",
       "      <td>...</td>\n",
       "      <td>...</td>\n",
       "      <td>...</td>\n",
       "      <td>...</td>\n",
       "      <td>...</td>\n",
       "      <td>...</td>\n",
       "      <td>...</td>\n",
       "      <td>...</td>\n",
       "      <td>...</td>\n",
       "      <td>...</td>\n",
       "      <td>...</td>\n",
       "      <td>...</td>\n",
       "    </tr>\n",
       "    <tr>\n",
       "      <th>154</th>\n",
       "      <td>-1.0</td>\n",
       "      <td>95.0</td>\n",
       "      <td>109.1</td>\n",
       "      <td>188.8</td>\n",
       "      <td>68.9</td>\n",
       "      <td>55.5</td>\n",
       "      <td>2952.0</td>\n",
       "      <td>141.0</td>\n",
       "      <td>3.78</td>\n",
       "      <td>3.15</td>\n",
       "      <td>9.5</td>\n",
       "      <td>114.0</td>\n",
       "      <td>5400.0</td>\n",
       "      <td>23.0</td>\n",
       "      <td>28.0</td>\n",
       "      <td>16845.0</td>\n",
       "    </tr>\n",
       "    <tr>\n",
       "      <th>155</th>\n",
       "      <td>-1.0</td>\n",
       "      <td>95.0</td>\n",
       "      <td>109.1</td>\n",
       "      <td>188.8</td>\n",
       "      <td>68.8</td>\n",
       "      <td>55.5</td>\n",
       "      <td>3049.0</td>\n",
       "      <td>141.0</td>\n",
       "      <td>3.78</td>\n",
       "      <td>3.15</td>\n",
       "      <td>8.7</td>\n",
       "      <td>160.0</td>\n",
       "      <td>5300.0</td>\n",
       "      <td>19.0</td>\n",
       "      <td>25.0</td>\n",
       "      <td>19045.0</td>\n",
       "    </tr>\n",
       "    <tr>\n",
       "      <th>156</th>\n",
       "      <td>-1.0</td>\n",
       "      <td>95.0</td>\n",
       "      <td>109.1</td>\n",
       "      <td>188.8</td>\n",
       "      <td>68.9</td>\n",
       "      <td>55.5</td>\n",
       "      <td>3012.0</td>\n",
       "      <td>173.0</td>\n",
       "      <td>3.58</td>\n",
       "      <td>2.87</td>\n",
       "      <td>8.8</td>\n",
       "      <td>134.0</td>\n",
       "      <td>5500.0</td>\n",
       "      <td>18.0</td>\n",
       "      <td>23.0</td>\n",
       "      <td>21485.0</td>\n",
       "    </tr>\n",
       "    <tr>\n",
       "      <th>157</th>\n",
       "      <td>-1.0</td>\n",
       "      <td>95.0</td>\n",
       "      <td>109.1</td>\n",
       "      <td>188.8</td>\n",
       "      <td>68.9</td>\n",
       "      <td>55.5</td>\n",
       "      <td>3217.0</td>\n",
       "      <td>145.0</td>\n",
       "      <td>3.01</td>\n",
       "      <td>3.40</td>\n",
       "      <td>23.0</td>\n",
       "      <td>106.0</td>\n",
       "      <td>4800.0</td>\n",
       "      <td>26.0</td>\n",
       "      <td>27.0</td>\n",
       "      <td>22470.0</td>\n",
       "    </tr>\n",
       "    <tr>\n",
       "      <th>158</th>\n",
       "      <td>-1.0</td>\n",
       "      <td>95.0</td>\n",
       "      <td>109.1</td>\n",
       "      <td>188.8</td>\n",
       "      <td>68.9</td>\n",
       "      <td>55.5</td>\n",
       "      <td>3062.0</td>\n",
       "      <td>141.0</td>\n",
       "      <td>3.78</td>\n",
       "      <td>3.15</td>\n",
       "      <td>9.5</td>\n",
       "      <td>114.0</td>\n",
       "      <td>5400.0</td>\n",
       "      <td>19.0</td>\n",
       "      <td>25.0</td>\n",
       "      <td>22625.0</td>\n",
       "    </tr>\n",
       "  </tbody>\n",
       "</table>\n",
       "<p>159 rows × 16 columns</p>\n",
       "</div>"
      ],
      "text/plain": [
       "     symboling  normalized-losses  wheel-base  length  width  height  \\\n",
       "0          2.0              164.0        99.8   176.6   66.2    54.3   \n",
       "1          2.0              164.0        99.4   176.6   66.4    54.3   \n",
       "2          1.0              158.0       105.8   192.7   71.4    55.7   \n",
       "3          1.0              158.0       105.8   192.7   71.4    55.9   \n",
       "4          2.0              192.0       101.2   176.8   64.8    54.3   \n",
       "..         ...                ...         ...     ...    ...     ...   \n",
       "154       -1.0               95.0       109.1   188.8   68.9    55.5   \n",
       "155       -1.0               95.0       109.1   188.8   68.8    55.5   \n",
       "156       -1.0               95.0       109.1   188.8   68.9    55.5   \n",
       "157       -1.0               95.0       109.1   188.8   68.9    55.5   \n",
       "158       -1.0               95.0       109.1   188.8   68.9    55.5   \n",
       "\n",
       "     curb-weight  engine-size  bore  stroke  compression-ratio  horsepower  \\\n",
       "0         2337.0        109.0  3.19    3.40               10.0       102.0   \n",
       "1         2824.0        136.0  3.19    3.40                8.0       115.0   \n",
       "2         2844.0        136.0  3.19    3.40                8.5       110.0   \n",
       "3         3086.0        131.0  3.13    3.40                8.3       140.0   \n",
       "4         2395.0        108.0  3.50    2.80                8.8       101.0   \n",
       "..           ...          ...   ...     ...                ...         ...   \n",
       "154       2952.0        141.0  3.78    3.15                9.5       114.0   \n",
       "155       3049.0        141.0  3.78    3.15                8.7       160.0   \n",
       "156       3012.0        173.0  3.58    2.87                8.8       134.0   \n",
       "157       3217.0        145.0  3.01    3.40               23.0       106.0   \n",
       "158       3062.0        141.0  3.78    3.15                9.5       114.0   \n",
       "\n",
       "     peak-rpm  city-mpg  highway-mpg    class  \n",
       "0      5500.0      24.0         30.0  13950.0  \n",
       "1      5500.0      18.0         22.0  17450.0  \n",
       "2      5500.0      19.0         25.0  17710.0  \n",
       "3      5500.0      17.0         20.0  23875.0  \n",
       "4      5800.0      23.0         29.0  16430.0  \n",
       "..        ...       ...          ...      ...  \n",
       "154    5400.0      23.0         28.0  16845.0  \n",
       "155    5300.0      19.0         25.0  19045.0  \n",
       "156    5500.0      18.0         23.0  21485.0  \n",
       "157    4800.0      26.0         27.0  22470.0  \n",
       "158    5400.0      19.0         25.0  22625.0  \n",
       "\n",
       "[159 rows x 16 columns]"
      ]
     },
     "execution_count": 3,
     "metadata": {},
     "output_type": "execute_result"
    }
   ],
   "source": [
    "df"
   ]
  },
  {
   "cell_type": "markdown",
   "metadata": {},
   "source": [
    "### Preparing the training and testing datasets / Pregatirea seturilor de antrenare si testare"
   ]
  },
  {
   "cell_type": "code",
   "execution_count": 4,
   "metadata": {},
   "outputs": [],
   "source": [
    "# remove irrelevant attributes / eliminarea atributelor irelevante\n",
    "df1=df.drop(['symboling', 'normalized-losses'], axis=1)"
   ]
  },
  {
   "cell_type": "code",
   "execution_count": 5,
   "metadata": {},
   "outputs": [],
   "source": [
    "# select the predictive attributes / selectarea atributelor de intrare (toate cu exceptia atributului care corespunde pretului)\n",
    "dfX=df1.drop(['class'], axis=1)"
   ]
  },
  {
   "cell_type": "code",
   "execution_count": 6,
   "metadata": {
    "scrolled": true
   },
   "outputs": [],
   "source": [
    "#select the target attribute / selectarea atributului tinta\n",
    "dfY=df1['class']"
   ]
  },
  {
   "cell_type": "code",
   "execution_count": 7,
   "metadata": {
    "scrolled": true
   },
   "outputs": [],
   "source": [
    "#construct the training/testing datasets (70%-30%) / separarea setului de date in subset de antrenare si subset de testare (70%-30%)\n",
    "X_train, X_test, y_train, y_test = train_test_split(\n",
    "    dfX, dfY, test_size=0.3, random_state=42)"
   ]
  },
  {
   "cell_type": "markdown",
   "metadata": {},
   "source": [
    "### 1. Reminder: Linear Regression / Regresie liniară"
   ]
  },
  {
   "cell_type": "code",
   "execution_count": 8,
   "metadata": {
    "scrolled": true
   },
   "outputs": [],
   "source": [
    "from sklearn import datasets, linear_model   # linear regression models\n",
    "# model definition / definirea modelului\n",
    "LR_model = linear_model.LinearRegression()\n",
    "\n",
    "# model training / antrenarea modelului\n",
    "LR_model = LR_model.fit(X_train, y_train)"
   ]
  },
  {
   "cell_type": "code",
   "execution_count": 9,
   "metadata": {},
   "outputs": [
    {
     "name": "stdout",
     "output_type": "stream",
     "text": [
      "Coefficients: \n",
      " [ 3.38275516e+02 -1.19147043e+02  7.13474052e+02 -2.22985032e+02\n",
      "  4.37651365e+00  7.42636055e+01 -2.96288804e+03 -2.22551230e+03\n",
      "  1.14099605e+02  9.96998338e+00  4.70934925e-01 -6.35522791e+01\n",
      "  5.81635590e+00]\n"
     ]
    }
   ],
   "source": [
    "# visualization of the coefficients / vizualizarea coeficientilor\n",
    "print('Coefficients: \\n', LR_model.coef_)"
   ]
  },
  {
   "cell_type": "code",
   "execution_count": 10,
   "metadata": {},
   "outputs": [
    {
     "name": "stdout",
     "output_type": "stream",
     "text": [
      "Mean squared error: 6373553.57\n",
      "Coefficient of determination: 0.77\n"
     ]
    }
   ],
   "source": [
    "# prediction Linear Regression / utilizarea modelului \n",
    "y_pred = LR_model.predict(X_test)\n",
    "\n",
    "# Mean squared error / Eroare medie patratica\n",
    "print('Mean squared error: %.2f'  % mean_squared_error(y_test, y_pred))\n",
    "\n",
    "# Coefficient of determination - values in [-1,1], 1 corresponds to perfect prediction / Coeficient de determinare - valori in [-1,1], 1 corespunde unei predictii perfecte\n",
    "print('Coefficient of determination: %.2f' % r2_score(y_test, y_pred))"
   ]
  },
  {
   "cell_type": "markdown",
   "metadata": {},
   "source": [
    "### Exercise 1.  Linear Regression / Exercitiu 1. Regresie liniara:  \n",
    "#### rank the car attributes based on their influence on the price /  ierarhizati atributele in functie de influenta asupra pretului"
   ]
  },
  {
   "cell_type": "code",
   "execution_count": null,
   "metadata": {},
   "outputs": [],
   "source": [
    "..."
   ]
  },
  {
   "cell_type": "markdown",
   "metadata": {},
   "source": [
    "## 2. Regression Trees / Arbori de regresie"
   ]
  },
  {
   "cell_type": "code",
   "execution_count": 11,
   "metadata": {
    "scrolled": true
   },
   "outputs": [],
   "source": [
    "# Regression tree / Arbore de regresie\n",
    "\n",
    "from sklearn import tree  # regression trees\n",
    "# default values of the parameters  / valori implicite ale parametrilor\n",
    "# see https://scikit-learn.org/stable/modules/generated/sklearn.tree.DecisionTreeRegressor.html#sklearn.tree.DecisionTreeRegressor\n",
    "\n",
    "RT_model = tree.DecisionTreeRegressor()   \n",
    "RT_model = RT_model.fit(X_train, y_train)"
   ]
  },
  {
   "cell_type": "code",
   "execution_count": 12,
   "metadata": {},
   "outputs": [
    {
     "name": "stdout",
     "output_type": "stream",
     "text": [
      "Mean squared error: 8013519.50\n",
      "Coefficient of determination: 0.71\n"
     ]
    }
   ],
   "source": [
    "# prediction Regression Tree / utilizare arbore de regresie\n",
    "y_pred_RT = RT_model.predict(X_test)\n",
    "\n",
    "# Mean squared error\n",
    "print('Mean squared error: %.2f'  % mean_squared_error(y_test, y_pred_RT))\n",
    "# Coefficient of determination\n",
    "print('Coefficient of determination: %.2f' % r2_score(y_test, y_pred_RT))"
   ]
  },
  {
   "cell_type": "markdown",
   "metadata": {},
   "source": [
    "### Exercise 2.  Regression Tree:  analyze the influence of  /  Exercitiu 2. Analizati influenta\n",
    "#### (a)  the maximal depth of the tree (max_depth)  / adancimii maxime a arborelui\n",
    "#### (b)  the split criterion (criterion, splitter) / criteriului de partitionare\n"
   ]
  },
  {
   "cell_type": "code",
   "execution_count": null,
   "metadata": {},
   "outputs": [],
   "source": [
    "..."
   ]
  },
  {
   "cell_type": "markdown",
   "metadata": {},
   "source": [
    "## 3. Support Vector Regression / Regresie bazată pe vectori suport"
   ]
  },
  {
   "cell_type": "code",
   "execution_count": 13,
   "metadata": {},
   "outputs": [],
   "source": [
    "# Support vector regression\n",
    "from sklearn import svm  # support vector machines\n",
    "# default values of the parameters  / valori implicite ale parametrilor\n",
    "# see https://scikit-learn.org/stable/modules/generated/sklearn.svm.SVR.html#sklearn.svm.SVR\n",
    "\n",
    "SVR_model = svm.SVR(kernel='linear')   \n",
    "SVR_model = SVR_model.fit(X_train, y_train)"
   ]
  },
  {
   "cell_type": "code",
   "execution_count": 14,
   "metadata": {},
   "outputs": [
    {
     "name": "stdout",
     "output_type": "stream",
     "text": [
      "Mean squared error: 4652170.98\n",
      "Coefficient of determination: 0.83\n"
     ]
    }
   ],
   "source": [
    "# prediction Support Vector Regressor / utilizare model de tip Support Vector Regressor\n",
    "y_pred_SVR = SVR_model.predict(X_test)\n",
    "\n",
    "# Mean squared error\n",
    "print('Mean squared error: %.2f'  % mean_squared_error(y_test, y_pred_SVR))\n",
    "# Coefficient of determination\n",
    "print('Coefficient of determination: %.2f' % r2_score(y_test, y_pred_SVR))"
   ]
  },
  {
   "cell_type": "markdown",
   "metadata": {},
   "source": [
    "### Exercise 3.  SVR:  analyze the influence of  / Exercitiu 3.  SVR: Analizati influenta\n",
    "#### (a) the kernel function / functiei nucleu\n",
    "#### (b) the regularization parameter (C) / parametrului de regularizare (C)"
   ]
  },
  {
   "cell_type": "code",
   "execution_count": null,
   "metadata": {},
   "outputs": [],
   "source": [
    "..."
   ]
  },
  {
   "cell_type": "markdown",
   "metadata": {},
   "source": [
    "## 4. k Nearest Neighbor Regression / Regresie bazata pe cei mai apropiati vecini"
   ]
  },
  {
   "cell_type": "code",
   "execution_count": 15,
   "metadata": {},
   "outputs": [],
   "source": [
    "# kNN\n",
    "from sklearn import neighbors # kNN\n",
    "# default values of the parameters  / valori implicite ale parametrilor\n",
    "# see https://scikit-learn.org/stable/modules/generated/sklearn.neighbors.KNeighborsRegressor.html#sklearn.neighbors.KNeighborsRegressor\n",
    "\n",
    "kNN_model = neighbors.KNeighborsRegressor()   \n",
    "kNN_model = kNN_model.fit(X_train, y_train)"
   ]
  },
  {
   "cell_type": "code",
   "execution_count": 16,
   "metadata": {},
   "outputs": [
    {
     "name": "stdout",
     "output_type": "stream",
     "text": [
      "Mean squared error: 5089728.16\n",
      "Coefficient of determination: 0.81\n"
     ]
    }
   ],
   "source": [
    "# prediction kNN Regressor / utilizare regresie bazata pe cei mai apropiati vecini\n",
    "y_pred_kNN = kNN_model.predict(X_test)\n",
    "\n",
    "# Mean squared error\n",
    "print('Mean squared error: %.2f'  % mean_squared_error(y_test, y_pred_kNN))\n",
    "# Coefficient of determination\n",
    "print('Coefficient of determination: %.2f' % r2_score(y_test, y_pred_kNN))"
   ]
  },
  {
   "cell_type": "markdown",
   "metadata": {},
   "source": [
    "### Exercise 4.  kNN:  analyze the influence of  / Exercitiu 4. Analizati influenta\n",
    "#### (a)  the number of neighbours / numărului de vecini\n",
    "#### (b)  the weights computation / modului de calcul a ponderilor"
   ]
  },
  {
   "cell_type": "code",
   "execution_count": null,
   "metadata": {},
   "outputs": [],
   "source": [
    "..."
   ]
  },
  {
   "cell_type": "markdown",
   "metadata": {},
   "source": [
    "## 5. Multilayer Perceptron / Rețea neuronală feedforward"
   ]
  },
  {
   "cell_type": "code",
   "execution_count": 17,
   "metadata": {},
   "outputs": [
    {
     "name": "stderr",
     "output_type": "stream",
     "text": [
      "C:\\Users\\A1\\anaconda3\\Lib\\site-packages\\sklearn\\neural_network\\_multilayer_perceptron.py:691: ConvergenceWarning: Stochastic Optimizer: Maximum iterations (200) reached and the optimization hasn't converged yet.\n",
      "  warnings.warn(\n"
     ]
    }
   ],
   "source": [
    "from sklearn.neural_network import MLPRegressor\n",
    "#https://scikit-learn.org/stable/modules/generated/sklearn.neural_network.MLPRegressor.html#sklearn.neural_network.MLPRegressor\n",
    "\n",
    "MLP_model = MLPRegressor()   \n",
    "MLP_model = MLP_model.fit(X_train, y_train)"
   ]
  },
  {
   "cell_type": "code",
   "execution_count": 18,
   "metadata": {},
   "outputs": [
    {
     "name": "stdout",
     "output_type": "stream",
     "text": [
      "Mean squared error: 22081418.59\n",
      "Coefficient of determination: 0.19\n"
     ]
    }
   ],
   "source": [
    "# prediction MLP / utilizare retea neuronala\n",
    "y_pred_MLP = MLP_model.predict(X_test)\n",
    "\n",
    "# Mean squared error\n",
    "print('Mean squared error: %.2f'  % mean_squared_error(y_test, y_pred_MLP))\n",
    "# Coefficient of determination: \n",
    "print('Coefficient of determination: %.2f' % r2_score(y_test, y_pred_MLP))"
   ]
  },
  {
   "cell_type": "markdown",
   "metadata": {},
   "source": [
    "### Exercise 5. MLP:  analyze the influence of the / Exercitiu 5. Analizati influenta următoarelor aspecte\n",
    "#### (a) input data standardization/ standardizarea datelor de intrare\n",
    "#### (b) number of hidden units/ numărul de unități ascunse\n",
    "#### (c) activation function / funcția de activare"
   ]
  },
  {
   "cell_type": "code",
   "execution_count": null,
   "metadata": {},
   "outputs": [],
   "source": [
    "..."
   ]
  },
  {
   "cell_type": "markdown",
   "metadata": {},
   "source": [
    "## 6. RBF network / retele cu functii de activare cu simetrie radiala\n"
   ]
  },
  {
   "cell_type": "code",
   "execution_count": 19,
   "metadata": {},
   "outputs": [],
   "source": [
    "#Source: https://github.com/ameerezae/RBF-Network/blob/master/RBF.ipynb\n",
    "import numpy as np\n",
    "import matplotlib.pyplot as plt\n",
    "import random\n",
    "\n",
    "class RBF(object):\n",
    "\n",
    "    def __init__(self, shape, sigma=0.5):\n",
    "        self.shape = shape  # number of hidden units\n",
    "        self.sigma = sigma  # receptive field width parameter\n",
    "        self.centers = None  # matrix of centers\n",
    "        self.weights = None  # matrix of weights\n",
    "        \n",
    "    # Gaussian radial basis function / funcția de activare de la nivelul ascuns - gaussiană\n",
    "    def gaussian_kernel(self, center, data_point):\n",
    "        return np.exp(-1 * self.sigma * (np.linalg.norm(center - data_point) ** 2))\n",
    "    \n",
    "    # computation of the values generated by the hidden units/ calculul valorilor produse de nivelul ascuns\n",
    "    def interpolation_matrix(self, X):\n",
    "        matrix = np.zeros(len(X) * self.shape)\n",
    "        counter = 0\n",
    "        for inp in X:\n",
    "            for center in self.centers:\n",
    "                kernel = self.gaussian_kernel(center, inp)\n",
    "                matrix[counter] = kernel\n",
    "                counter += 1\n",
    "        return matrix.reshape(len(X), self.shape)\n",
    "    \n",
    "    # random selection of the centers from the input dataset/ selecție aleatoare a centrilor din setul de intrare\n",
    "    def select_centers(self, X):\n",
    "        centers = []\n",
    "        random_indices = random.sample(range(0, len(X)), self.shape)\n",
    "        for rnd in random_indices:\n",
    "            centers.append(X[rnd])\n",
    "        return np.array(centers)\n",
    "    \n",
    "    # training\n",
    "    def fit(self, X, Y):\n",
    "        self.centers = self.select_centers(X)  # selection of centers\n",
    "        im = self.interpolation_matrix(X)      # computation of the values corresponding to the hidden units\n",
    "        self.weights = np.dot(np.linalg.pinv(im), Y) # computation of the weights of connections between hidden and output layers (using the pseudoinverse)\n",
    "    \n",
    "    # prediction\n",
    "    def predict(self, X):\n",
    "        im = self.interpolation_matrix(X)\n",
    "        predictions = np.dot(im, self.weights)\n",
    "        return predictions\n"
   ]
  },
  {
   "cell_type": "code",
   "execution_count": 20,
   "metadata": {},
   "outputs": [],
   "source": [
    "# training\n",
    "x_train_RBF = np.arange(-6.3, 6.3, 0.5)\n",
    "y_train_RBF = np.sin(x_train_RBF)\n",
    "\n",
    "RBFN = RBF(shape=5, sigma=0.1)  # 5 hidden units and width parameter equal to 0.1\n",
    "RBFN.fit(x_train_RBF, y_train_RBF)\n",
    "y_pred_RBF = RBFN.predict(x_train_RBF)"
   ]
  },
  {
   "cell_type": "code",
   "execution_count": 21,
   "metadata": {},
   "outputs": [
    {
     "data": {
      "image/png": "[encoded data removed]",
      "text/plain": [
       "<Figure size 640x480 with 1 Axes>"
      ]
     },
     "metadata": {},
     "output_type": "display_data"
    }
   ],
   "source": [
    "x_train_compare = np.arange(-8, 8, 0.1)\n",
    "\n",
    "RBF_prediction = RBFN.predict(x_train_compare)\n",
    "\n",
    "real_values = np.sin(x_train_compare)\n",
    "\n",
    "plt.plot(x_train_compare, real_values, 'r--', label='Real')\n",
    "#plt.plot(x_train_compare, MLP_prediction, 'b-', label='MLP')\n",
    "plt.plot(x_train_compare, RBF_prediction, 'g-', label='RBF')\n",
    "\n",
    "plt.legend(loc='upper right')\n",
    "plt.grid(color='b', ls = '-.', lw = 0.25)\n",
    "plt.savefig('compare.png')\n",
    "plt.show()"
   ]
  },
  {
   "cell_type": "markdown",
   "metadata": {},
   "source": [
    "### Exercise RBF:  analyze the influence of the / analizați influența:\n",
    "* number of hidden units/ numărului de unități ascunse\n",
    "* value of the kernel width (sigma parameter)/ valorii lui sigma"
   ]
  },
  {
   "cell_type": "markdown",
   "metadata": {},
   "source": [
    "#### Other examples of RBF implementation:   https://github.com/artisan1218/RBF-Network/blob/main/RBF_Network.ipynb,  https://github.com/rssalessio/PytorchRBFLayer"
   ]
  },
  {
   "cell_type": "code",
   "execution_count": null,
   "metadata": {},
   "outputs": [],
   "source": []
  }
 ],
 "metadata": {
  "kernelspec": {
   "display_name": "Python 3 (ipykernel)",
   "language": "python",
   "name": "python3"
  },
  "language_info": {
   "codemirror_mode": {
    "name": "ipython",
    "version": 3
   },
   "file_extension": ".py",
   "mimetype": "text/x-python",
   "name": "python",
   "nbconvert_exporter": "python",
   "pygments_lexer": "ipython3",
   "version": "3.11.5"
  }
 },
 "nbformat": 4,
 "nbformat_minor": 4
}
