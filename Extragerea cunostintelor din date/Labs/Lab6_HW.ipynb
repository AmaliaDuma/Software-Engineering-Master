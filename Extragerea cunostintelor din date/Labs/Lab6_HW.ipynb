{
  "nbformat": 4,
  "nbformat_minor": 0,
  "metadata": {
    "colab": {
      "provenance": []
    },
    "kernelspec": {
      "name": "python3",
      "display_name": "Python 3"
    },
    "language_info": {
      "name": "python"
    }
  },
  "cells": [
    {
      "cell_type": "code",
      "execution_count": 1,
      "metadata": {
        "id": "KXGk3JlWdQNJ"
      },
      "outputs": [],
      "source": [
        "import pandas as pd\n",
        "import numpy as np\n",
        "from scipy.io import arff\n",
        "from sklearn.model_selection import train_test_split\n",
        "from sklearn.linear_model import LinearRegression\n",
        "from sklearn.tree import DecisionTreeRegressor\n",
        "from sklearn.metrics import mean_squared_error, r2_score"
      ]
    },
    {
      "cell_type": "code",
      "source": [
        "# Încărcarea datelor\n",
        "data = arff.loadarff('autoMpg.arff')\n",
        "df = pd.DataFrame(data[0])"
      ],
      "metadata": {
        "id": "1uK0swhwgBJQ"
      },
      "execution_count": 21,
      "outputs": []
    },
    {
      "cell_type": "code",
      "source": [
        "# Conversia coloanelor de tip byte la string\n",
        "for column in df.columns:\n",
        "    if df[column].dtype == 'object':\n",
        "        df[column] = df[column].str.decode('utf-8')"
      ],
      "metadata": {
        "id": "pjFUHV-Qgwsd"
      },
      "execution_count": 22,
      "outputs": []
    },
    {
      "cell_type": "code",
      "source": [
        "# Înlocuirea valorile lipsă cu media coloanei respective\n",
        "df.fillna(df.mean(), inplace=True)"
      ],
      "metadata": {
        "id": "f5HSDhDBh3M4"
      },
      "execution_count": 23,
      "outputs": []
    },
    {
      "cell_type": "code",
      "source": [
        "# Selectarea atributelor de intrare și selectarea atributului țintă\n",
        "X = df.drop('class', axis=1)\n",
        "Y = df['class']"
      ],
      "metadata": {
        "id": "A8hRg1f1g5I7"
      },
      "execution_count": 24,
      "outputs": []
    },
    {
      "cell_type": "code",
      "source": [
        "# Separarea setului de date in subset de antrenare si subset de testare (70%-30%)\n",
        "X_train, X_test, Y_train, Y_test = train_test_split(X, Y, test_size=0.3, random_state=42)"
      ],
      "metadata": {
        "id": "_IoO9qj2hzA3"
      },
      "execution_count": 25,
      "outputs": []
    },
    {
      "cell_type": "code",
      "source": [
        "# Modelul 1: Regressie Liniară\n",
        "lr = LinearRegression()\n",
        "lr.fit(X_train, Y_train)\n",
        "Y_pred_lr = lr.predict(X_test)\n",
        "\n",
        "# Modelul 2: Arbore de Decizie pentru regresie\n",
        "dt = DecisionTreeRegressor(random_state=42)\n",
        "dt.fit(X_train, Y_train)\n",
        "Y_pred_dt = dt.predict(X_test)"
      ],
      "metadata": {
        "id": "cJcMkXVLjkDb"
      },
      "execution_count": 27,
      "outputs": []
    },
    {
      "cell_type": "code",
      "source": [
        "# Evaluarea performanțelor\n",
        "mse_lr = mean_squared_error(Y_test, Y_pred_lr)\n",
        "r2_lr = r2_score(Y_test, Y_pred_lr)\n",
        "\n",
        "mse_dt = mean_squared_error(Y_test, Y_pred_dt)\n",
        "r2_dt = r2_score(Y_test, Y_pred_dt)\n",
        "\n",
        "print(\"Performanțele modelului: Regresie liniară\")\n",
        "print(\"Mean squared error: %.2f\" % mse_lr)\n",
        "print(\"Coefficient of determination: %.2f\" % r2_lr)\n",
        "\n",
        "print(\"\\nPerformanțele modelului: Arbore de Decizie\")\n",
        "print(\"Mean squared error: %.2f\" % mse_dt)\n",
        "print(\"Coefficient of determination: %.2f\" % r2_dt)"
      ],
      "metadata": {
        "colab": {
          "base_uri": "https://localhost:8080/"
        },
        "id": "PSc67jGWkC0O",
        "outputId": "62e9d00d-d1ea-4cc6-e12f-4a9f108eee54"
      },
      "execution_count": 32,
      "outputs": [
        {
          "output_type": "stream",
          "name": "stdout",
          "text": [
            "Performanțele modelului: Regresie liniară\n",
            "Mean squared error: 9.28\n",
            "Coefficient of determination: 0.84\n",
            "\n",
            "Performanțele modelului: Arbore de Decizie\n",
            "Mean squared error: 12.75\n",
            "Coefficient of determination: 0.78\n"
          ]
        }
      ]
    }
  ]
}