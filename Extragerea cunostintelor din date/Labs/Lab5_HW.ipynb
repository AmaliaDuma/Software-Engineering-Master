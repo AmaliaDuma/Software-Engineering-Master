{
  "nbformat": 4,
  "nbformat_minor": 0,
  "metadata": {
    "colab": {
      "provenance": []
    },
    "kernelspec": {
      "name": "python3",
      "display_name": "Python 3"
    },
    "language_info": {
      "name": "python"
    }
  },
  "cells": [
    {
      "cell_type": "code",
      "execution_count": null,
      "metadata": {
        "collapsed": true,
        "id": "NRuhFfnm4_sz"
      },
      "outputs": [],
      "source": [
        "!pip install apyori\n",
        "import apyori\n",
        "from apyori import apriori\n",
        "\n",
        "!pip install fpgrowth_py\n",
        "from fpgrowth_py import fpgrowth"
      ]
    },
    {
      "cell_type": "code",
      "source": [
        "import pandas as pd\n",
        "import time"
      ],
      "metadata": {
        "id": "OahxAFs656ns"
      },
      "execution_count": 65,
      "outputs": []
    },
    {
      "cell_type": "code",
      "source": [
        "# Incarcarea datelor si extragerea tranzactiilor\n",
        "data = pd.read_csv('movies.csv')\n",
        "transactions = data['genres'].apply(lambda x: x.split('|')).tolist()\n",
        "len(transactions)"
      ],
      "metadata": {
        "colab": {
          "base_uri": "https://localhost:8080/"
        },
        "collapsed": true,
        "id": "CAf_HJ0l7KXv",
        "outputId": "9fe17e30-8f01-47ae-8adc-00cb36055fe8"
      },
      "execution_count": 5,
      "outputs": [
        {
          "output_type": "execute_result",
          "data": {
            "text/plain": [
              "9742"
            ]
          },
          "metadata": {},
          "execution_count": 5
        }
      ]
    },
    {
      "cell_type": "code",
      "source": [
        "# Extragere regulilor de asociere folosind algoritmul apriori\n",
        "#  • pentru min_support=0.01, min_confidence=0.9, min_lift=1 se gasesc 0 reguli\n",
        "#  • modificand min_support=0.002 se gasesc 2 reguli\n",
        "#  • modificand min_support=0.001 se gasesc 6 reguli\n",
        "\n",
        "start_time_apriori = time.time()\n",
        "rules_apriori = list(apriori(\n",
        "    transactions,\n",
        "    min_support=0.001,\n",
        "    min_confidence=0.9,\n",
        "    min_lift=1))\n",
        "end_time_apriori = time.time()\n",
        "len(rules_apriori)"
      ],
      "metadata": {
        "colab": {
          "base_uri": "https://localhost:8080/"
        },
        "id": "tPhRL9eY73EH",
        "outputId": "69b65e93-f349-4812-b112-f5467bf783ed"
      },
      "execution_count": 66,
      "outputs": [
        {
          "output_type": "execute_result",
          "data": {
            "text/plain": [
              "6"
            ]
          },
          "metadata": {},
          "execution_count": 66
        }
      ]
    },
    {
      "cell_type": "code",
      "source": [
        "# Extragere regulilor de asociere folosind algoritmul fpgrowth\n",
        "#  • pentru min_support=0.01, min_confidence=0.9 se gasesc 0 reguli\n",
        "#  • modificand min_support=0.002 se gasesc 2 reguli\n",
        "#  • modificand min_support=0.001 se gasesc 7 reguli\n",
        "start_time_fpgrowth = time.time()\n",
        "freqItemSet, rules_fp = fpgrowth(transactions, minSupRatio=0.001, minConf=0.9)\n",
        "end_time_fpgrowth = time.time()\n",
        "len(rules_fp)"
      ],
      "metadata": {
        "colab": {
          "base_uri": "https://localhost:8080/"
        },
        "id": "O_q1d64GBVnD",
        "outputId": "ebfd46cc-5640-49ea-b04e-975ae4860ad0"
      },
      "execution_count": 67,
      "outputs": [
        {
          "output_type": "execute_result",
          "data": {
            "text/plain": [
              "7"
            ]
          },
          "metadata": {},
          "execution_count": 67
        }
      ]
    },
    {
      "cell_type": "code",
      "source": [
        "rules_list_apriori = []\n",
        "for rule in rules_apriori:\n",
        "    rule_items = (list(rule[2][0][0]), list(rule[2][0][1]), rule[2][0][2])\n",
        "    rules_list_apriori.append(rule_items)\n",
        "\n",
        "rules_list_apriori.sort(key=lambda x: x[2], reverse=True)\n",
        "\n",
        "print(\"Apriori rules:\")\n",
        "for rule_items in rules_list_apriori:\n",
        "    print(rule_items)"
      ],
      "metadata": {
        "colab": {
          "base_uri": "https://localhost:8080/"
        },
        "id": "Xe0IuSmlC5WC",
        "outputId": "d2ebcb9f-a135-4637-985a-dd3d5019addb"
      },
      "execution_count": 76,
      "outputs": [
        {
          "output_type": "stream",
          "name": "stdout",
          "text": [
            "Apriori rules:\n",
            "(['Crime', 'IMAX'], ['Action'], 1.0)\n",
            "(['Action', 'Mystery', 'Crime', 'Drama'], ['Thriller'], 1.0)\n",
            "(['Comedy', 'IMAX', 'Children'], ['Animation'], 0.9411764705882353)\n",
            "(['Comedy', 'Adventure', 'Animation', 'IMAX'], ['Children'], 0.9166666666666666)\n",
            "(['Musical', 'Adventure', 'Animation'], ['Children'], 0.9130434782608695)\n",
            "(['Sci-Fi', 'Adventure', 'IMAX'], ['Action'], 0.9032258064516129)\n"
          ]
        }
      ]
    },
    {
      "cell_type": "code",
      "source": [
        "rules_list_fpgrowth = []\n",
        "for rule in rules_fp:\n",
        "    rule_items = (list(rule[0]), list(rule[1]), rule[2])\n",
        "    rules_list_fpgrowth.append(rule_items)\n",
        "\n",
        "rules_list_fpgrowth.sort(key=lambda x: x[2], reverse=True)\n",
        "\n",
        "print(\"FPGrowth rules:\")\n",
        "for rule_items in rules_list_fpgrowth:\n",
        "    print(rule_items)"
      ],
      "metadata": {
        "colab": {
          "base_uri": "https://localhost:8080/"
        },
        "id": "pIJRm9uSIJW8",
        "outputId": "9e217b59-4116-4773-cfa2-627259863550"
      },
      "execution_count": 77,
      "outputs": [
        {
          "output_type": "stream",
          "name": "stdout",
          "text": [
            "FPGrowth rules:\n",
            "(['Crime', 'IMAX'], ['Action'], 1.0)\n",
            "(['Action', 'Crime', 'Mystery', 'Drama'], ['Thriller'], 1.0)\n",
            "(['Comedy', 'IMAX', 'Children'], ['Animation'], 0.9411764705882353)\n",
            "(['Comedy', 'Adventure', 'IMAX', 'Animation'], ['Children'], 0.9166666666666666)\n",
            "(['Comedy', 'Adventure', 'IMAX', 'Children'], ['Animation'], 0.9166666666666666)\n",
            "(['Musical', 'Adventure', 'Animation'], ['Children'], 0.9130434782608695)\n",
            "(['Sci-Fi', 'Adventure', 'IMAX'], ['Action'], 0.9032258064516129)\n"
          ]
        }
      ]
    },
    {
      "cell_type": "code",
      "source": [
        "print(f'Execution time for Apriori: {end_time_apriori - start_time_apriori}')\n",
        "print(f'Execution time for FPGrowth: {end_time_fpgrowth - start_time_fpgrowth}')"
      ],
      "metadata": {
        "colab": {
          "base_uri": "https://localhost:8080/"
        },
        "id": "6eOCo_PRGs5r",
        "outputId": "29396fb6-0ac7-4f9b-c13f-142f27aaf257"
      },
      "execution_count": 68,
      "outputs": [
        {
          "output_type": "stream",
          "name": "stdout",
          "text": [
            "Execution time for Apriori: 0.26139020919799805\n",
            "Execution time for FPGrowth: 14.307560205459595\n"
          ]
        }
      ]
    }
  ]
}