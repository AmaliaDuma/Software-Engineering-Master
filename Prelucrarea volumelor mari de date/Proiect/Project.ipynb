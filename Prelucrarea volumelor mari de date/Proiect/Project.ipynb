{
 "cells": [
  {
   "cell_type": "code",
   "execution_count": 1,
   "id": "68e1827a-80fe-4255-aca2-9556d7fa511d",
   "metadata": {},
   "outputs": [],
   "source": [
    "from pyspark.sql import SparkSession\n",
    "from pyspark.sql.functions import split, expr, when, col, max as spark_max\n",
    "from pyspark.ml.feature import StringIndexer\n",
    "from pyspark.ml.feature import VectorAssembler\n",
    "from pyspark.ml.classification import DecisionTreeClassifier, LinearSVC, LogisticRegression\n",
    "from pyspark.ml.evaluation import MulticlassClassificationEvaluator, BinaryClassificationEvaluator\n",
    "from pyspark.ml.tuning import CrossValidator, ParamGridBuilder\n",
    "import numpy as np\n",
    "import time\n",
    "import matplotlib.pyplot as plt\n",
    "spark = SparkSession.builder.appName('FlightsProject').config(\"spark.executor.memory\", \"4g\").config(\"spark.driver.memory\", \"4g\").getOrCreate()"
   ]
  },
  {
   "cell_type": "markdown",
   "id": "1f6acda4-ab45-4def-b533-1c7820afe3c1",
   "metadata": {
    "jp-MarkdownHeadingCollapsed": true
   },
   "source": [
    "### Utils functions"
   ]
  },
  {
   "cell_type": "code",
   "execution_count": 2,
   "id": "c0caf702-aca6-4693-a38e-5a0570f8f10f",
   "metadata": {},
   "outputs": [],
   "source": [
    "def evaluate_models(models, test_df, labelCol='label'):\n",
    "    evaluator = MulticlassClassificationEvaluator(predictionCol='prediction', labelCol=labelCol)\n",
    "    bin_eval = BinaryClassificationEvaluator(rawPredictionCol='prediction', labelCol=labelCol)\n",
    "\n",
    "    metrics = {'Algorithm': [], 'Accuracy': [], 'ROC_AUC': [], 'PR_AUC': [], 'TP Rate': [], 'TN Rate': []}\n",
    "\n",
    "    for name, model in models:\n",
    "        pred = model.transform(test_df)\n",
    "\n",
    "        roc = bin_eval.evaluate(pred, {bin_eval.metricName: \"areaUnderROC\"})\n",
    "        auPR = bin_eval.evaluate(pred, {bin_eval.metricName: \"areaUnderPR\"})\n",
    "        accuracy = evaluator.evaluate(pred, {evaluator.metricName: \"accuracy\"})\n",
    "        tpByLabel = evaluator.evaluate(pred, {evaluator.metricName: \"truePositiveRateByLabel\", evaluator.metricLabel: 1.0})\n",
    "        tnByLabel = evaluator.evaluate(pred, {evaluator.metricName: \"truePositiveRateByLabel\", evaluator.metricLabel: 0.0})\n",
    "\n",
    "        metrics['Algorithm'].append(name)\n",
    "        metrics['Accuracy'].append(accuracy)\n",
    "        metrics['ROC_AUC'].append(roc)\n",
    "        metrics['PR_AUC'].append(auPR)\n",
    "        metrics['TP Rate'].append(tpByLabel)\n",
    "        metrics['TN Rate'].append(tnByLabel)\n",
    "\n",
    "    return metrics"
   ]
  },
  {
   "cell_type": "code",
   "execution_count": 3,
   "id": "6eefeafb-dd27-4144-bc9e-4feb6a844dbb",
   "metadata": {},
   "outputs": [],
   "source": [
    "def plot_results(metrics):\n",
    "   \n",
    "    # Plot evaluation metrics\n",
    "    fig_metrics, ax_metrics = plt.subplots(figsize=(10, 5))\n",
    "\n",
    "    metric_names = ['Accuracy', 'ROC_AUC', 'PR_AUC', 'TP Rate', 'TN Rate']\n",
    "    x_metrics = np.arange(len(metric_names))  # The label locations\n",
    "    width_metrics = 0.25  # The width of the bars\n",
    "\n",
    "    for name in metrics['Algorithm']:\n",
    "        offset = (metrics['Algorithm'].index(name) - len(metrics['Algorithm']) / 2) * width_metrics + width_metrics / 2\n",
    "        alg_scores = [metrics[metric][metrics['Algorithm'].index(name)] for metric in metric_names]\n",
    "        ax_metrics.bar(x_metrics + offset, alg_scores, width_metrics, label=name)\n",
    "\n",
    "    ax_metrics.set_xlabel('Metric')\n",
    "    ax_metrics.set_ylabel('Score')\n",
    "    ax_metrics.set_title('Algorithm Performance Across Metrics')\n",
    "    ax_metrics.set_xticks(x_metrics)\n",
    "    ax_metrics.set_xticklabels(metric_names)\n",
    "    ax_metrics.legend(title='Algorithm', loc='center left', bbox_to_anchor=(1, 0.5))\n",
    "    ax_metrics.grid(axis='y')\n",
    "\n",
    "    plt.tight_layout()\n",
    "    plt.show()"
   ]
  },
  {
   "cell_type": "markdown",
   "id": "88c13e08-e41d-4cd5-8623-3fab8d9295c1",
   "metadata": {},
   "source": [
    "### Process & prepare weather dataset. \n",
    "\n",
    "For a specific day & airport get max severity for the following events: fog, storm, snow and rain."
   ]
  },
  {
   "cell_type": "code",
   "execution_count": 4,
   "id": "b622df34-d7ef-4cdc-91a7-70be15752a3d",
   "metadata": {},
   "outputs": [],
   "source": [
    "weather_data = spark.read.csv(\"flights_data/weather_data.csv\", header=True, inferSchema=True)"
   ]
  },
  {
   "cell_type": "code",
   "execution_count": 5,
   "id": "eac0e80c-58ed-41bf-acca-ed739d6e308f",
   "metadata": {},
   "outputs": [],
   "source": [
    "weather_data = weather_data.withColumn('StartDate', split(weather_data['StartTime(UTC)'], ' ')[0])\n",
    "\n",
    "columns = ['StartDate', 'AirportCode', 'Type', 'Severity']\n",
    "weather_data = weather_data.select(*columns)\n",
    "\n",
    "weather_data = weather_data.withColumn('AirportCode', expr(\"substring(AirportCode, 2, length(AirportCode))\"))\n",
    "weather_data = weather_data.filter(weather_data.StartDate.like('%2021%'))"
   ]
  },
  {
   "cell_type": "code",
   "execution_count": 6,
   "id": "ba0ab157-e664-4002-9cae-4f9cc1dc5bf4",
   "metadata": {},
   "outputs": [
    {
     "name": "stdout",
     "output_type": "stream",
     "text": [
      "+----------+-----------+-----------+-------------+------------+------------+\n",
      "| StartDate|AirportCode|FogSeverity|StormSeverity|SnowSeverity|RainSeverity|\n",
      "+----------+-----------+-----------+-------------+------------+------------+\n",
      "|2021-06-02|        NUQ|          2|            0|           0|           0|\n",
      "|2021-08-02|        AMA|          2|            0|           0|           0|\n",
      "|2021-02-19|        BLM|          2|            0|           1|           1|\n",
      "+----------+-----------+-----------+-------------+------------+------------+\n",
      "only showing top 3 rows\n",
      "\n"
     ]
    }
   ],
   "source": [
    "severity_mapping = {\"Other\": 0, \"UNK\": 0, \"Light\": 1, \"Moderate\": 1, \"Heavy\": 2, \"Severe\": 2}\n",
    "\n",
    "# Map Severity to SeverityValue using the mapping above\n",
    "weather_data = weather_data.withColumn(\"SeverityValue\", \n",
    "                                       when(col(\"Severity\") == \"Other\", 0).when(col(\"Severity\") == \"UNK\", 0) \n",
    "                                       .when(col(\"Severity\") == \"Light\", 1).when(col(\"Severity\") == \"Moderate\", 1) \n",
    "                                       .when(col(\"Severity\") == \"Heavy\", 2).when(col(\"Severity\") == \"Severe\", 2))\n",
    "\n",
    "# Group data by day & airport & type to get max SeverityValue for each type of event\n",
    "weather_data = weather_data.groupBy(\"StartDate\", \"AirportCode\", \"Type\").agg(spark_max(\"SeverityValue\").alias(\"MaxSeverity\"))\n",
    "\n",
    "# Group data by day & airport and create columns for events \"Fog\", \"Storm\", \"Snow\" and \"Rain\" which will hold the max severity value.\n",
    "weather_data = weather_data.groupBy(\"StartDate\", \"AirportCode\").pivot(\"Type\", [\"Fog\", \"Storm\", \"Snow\", \"Rain\"]).agg(spark_max(\"MaxSeverity\"))\n",
    "\n",
    "# Fill missing value with 0 representing none/unknown\n",
    "weather_data = weather_data.fillna(0)\n",
    "\n",
    "# Rename columns for clarity\n",
    "weather_data = weather_data.withColumnRenamed(\"Fog\", \"FogSeverity\").withColumnRenamed(\"Storm\", \"StormSeverity\") \\\n",
    "               .withColumnRenamed(\"Snow\", \"SnowSeverity\").withColumnRenamed(\"Rain\", \"RainSeverity\")\n",
    "\n",
    "weather_data.show(3)"
   ]
  },
  {
   "cell_type": "markdown",
   "id": "a4d1ff23-1230-4cd4-bd47-19885d7b7e37",
   "metadata": {},
   "source": [
    "### Prepare & Process flights dataset\n",
    "Read flights dataset, keep relevant columns and join with weather dataset. Drop null values and transform categorical attributes to numerical attributes."
   ]
  },
  {
   "cell_type": "code",
   "execution_count": 7,
   "id": "f36ec91e-c368-4ded-9297-6b8b0f895ac4",
   "metadata": {},
   "outputs": [
    {
     "name": "stdout",
     "output_type": "stream",
     "text": [
      "+----------+-----+----------+------+----+-------+--------+-------+------+-------+--------+\n",
      "|DayofMonth|Month|FlightDate|Origin|Dest|DepTime|Distance|AirTime|TaxiIn|TaxiOut|ArrDel15|\n",
      "+----------+-----+----------+------+----+-------+--------+-------+------+-------+--------+\n",
      "|         3|    3|2021-03-03|   SGU| PHX|  714.0|   262.0|   49.0|   5.0|   10.0|     0.0|\n",
      "|         3|    3|2021-03-03|   PHX| SGU|  917.0|   262.0|   48.0|   3.0|   23.0|     0.0|\n",
      "|         3|    3|2021-03-03|   MHT| ORD| 1321.0|   843.0|  129.0|  16.0|   15.0|     0.0|\n",
      "+----------+-----+----------+------+----+-------+--------+-------+------+-------+--------+\n",
      "only showing top 3 rows\n",
      "\n"
     ]
    }
   ],
   "source": [
    "data = spark.read.csv(\"flights_data/cflights2021.csv\", header=True, inferSchema=True)\n",
    "columns = ['DayofMonth', 'Month', 'FlightDate', 'Origin', 'Dest', 'DepTime', 'Distance', 'AirTime', 'TaxiIn', 'TaxiOut', 'ArrDel15']\n",
    "data = data.select(*columns)\n",
    "data.show(3)"
   ]
  },
  {
   "cell_type": "code",
   "execution_count": 8,
   "id": "24935b68-9762-4412-9cb9-71586318868e",
   "metadata": {},
   "outputs": [
    {
     "name": "stdout",
     "output_type": "stream",
     "text": [
      "+----------+-----+------+----+-------+--------+-------+------+-------+-----------+-------------+------------+------------+--------+\n",
      "|DayofMonth|Month|Origin|Dest|DepTime|Distance|AirTime|TaxiIn|TaxiOut|FogSeverity|StormSeverity|SnowSeverity|RainSeverity|ArrDel15|\n",
      "+----------+-----+------+----+-------+--------+-------+------+-------+-----------+-------------+------------+------------+--------+\n",
      "|        18|    3|   DFW| ORD| 1242.0|   801.0|  113.0|   7.0|   19.0|          0|            0|           0|           0|     0.0|\n",
      "|        19|    5|   HOU| SJU| 1110.0|  1997.0|  236.0|   6.0|   20.0|          0|            0|           0|           1|     0.0|\n",
      "|        19|    5|   HOU| SLC| 1049.0|  1214.0|  156.0|   4.0|   30.0|          0|            0|           0|           1|     0.0|\n",
      "+----------+-----+------+----+-------+--------+-------+------+-------+-----------+-------------+------------+------------+--------+\n",
      "only showing top 3 rows\n",
      "\n"
     ]
    }
   ],
   "source": [
    "# Join flights and weather data\n",
    "data = data.join(weather_data, (data.FlightDate == weather_data.StartDate) & (data.Origin == weather_data.AirportCode), how=\"left\")\n",
    "\n",
    "# Fill missing value with 0 representing none/unknown\n",
    "data = data.fillna({\"FogSeverity\": 0, \"StormSeverity\": 0, \"SnowSeverity\": 0, \"RainSeverity\": 0})\n",
    "\n",
    "columns = ['DayofMonth', 'Month', 'Origin', 'Dest', 'DepTime', 'Distance', 'AirTime', 'TaxiIn', 'TaxiOut', 'FogSeverity', \n",
    "           'StormSeverity', 'SnowSeverity', 'RainSeverity', 'ArrDel15']\n",
    "data = data.select(*columns)\n",
    "data.show(3)"
   ]
  },
  {
   "cell_type": "code",
   "execution_count": 9,
   "id": "65125a65-2500-4d1a-ab6b-2fceea6aa487",
   "metadata": {},
   "outputs": [],
   "source": [
    "# Drop rows with null values\n",
    "data = data.na.drop()"
   ]
  },
  {
   "cell_type": "code",
   "execution_count": 10,
   "id": "598d1730-ea82-47eb-899d-fc0e6c2c8c1f",
   "metadata": {},
   "outputs": [
    {
     "data": {
      "text/plain": [
       "DataFrame[StartDate: string, AirportCode: string, FogSeverity: int, StormSeverity: int, SnowSeverity: int, RainSeverity: int]"
      ]
     },
     "execution_count": 10,
     "metadata": {},
     "output_type": "execute_result"
    }
   ],
   "source": [
    "# Unpersist weather data, no longer needed\n",
    "weather_data.unpersist()"
   ]
  },
  {
   "cell_type": "code",
   "execution_count": 11,
   "id": "3fcffa01-9222-4485-87d8-91854610228b",
   "metadata": {},
   "outputs": [
    {
     "name": "stdout",
     "output_type": "stream",
     "text": [
      "+----------+-----+---------+-------+-------+--------+-------+------+-------+-----------+-------------+------------+------------+--------+\n",
      "|DayofMonth|Month|OriginEnc|DestEnc|DepTime|Distance|AirTime|TaxiIn|TaxiOut|FogSeverity|StormSeverity|SnowSeverity|RainSeverity|ArrDel15|\n",
      "+----------+-----+---------+-------+-------+--------+-------+------+-------+-----------+-------------+------------+------------+--------+\n",
      "|         1|    1|    152.0|    0.0|  813.0|   143.0|   39.0|   7.0|   10.0|          2|            0|           0|           1|     0.0|\n",
      "|         1|    1|    152.0|    0.0| 1253.0|   143.0|   33.0|  18.0|   18.0|          2|            0|           0|           1|     0.0|\n",
      "|         1|    1|    152.0|    0.0| 1710.0|   143.0|   32.0|   8.0|    7.0|          2|            0|           0|           1|     0.0|\n",
      "+----------+-----+---------+-------+-------+--------+-------+------+-------+-----------+-------------+------------+------------+--------+\n",
      "only showing top 3 rows\n",
      "\n"
     ]
    }
   ],
   "source": [
    "si = StringIndexer(inputCol='Origin', outputCol='OriginEnc')\n",
    "si_fit = si.fit(data)\n",
    "si2 = StringIndexer(inputCol='Dest', outputCol='DestEnc')\n",
    "si2_fit = si2.fit(data)\n",
    "\n",
    "data = si_fit.transform(data)\n",
    "data = si2_fit.transform(data)\n",
    "columns = ['DayofMonth', 'Month', 'OriginEnc', 'DestEnc', 'DepTime', 'Distance', 'AirTime', 'TaxiIn', 'TaxiOut', 'FogSeverity', \n",
    "           'StormSeverity', 'SnowSeverity', 'RainSeverity', 'ArrDel15']\n",
    "data = data.select(*columns)\n",
    "data.show(3)"
   ]
  },
  {
   "cell_type": "markdown",
   "id": "c4a9f245-4b9b-40f4-95c8-e8b76f6ca274",
   "metadata": {},
   "source": [
    "### Models training & evaluation\n",
    "Create Logistic Regression, Desicion Tree and Support Vector Machine classifiers and evaluate them."
   ]
  },
  {
   "cell_type": "code",
   "execution_count": 12,
   "id": "5db4a637-1c65-4062-8dbf-d514c378ab21",
   "metadata": {},
   "outputs": [],
   "source": [
    "inputCols=['DayofMonth', 'Month', 'OriginEnc', 'DestEnc', 'DepTime', 'Distance', 'AirTime', 'TaxiIn', 'TaxiOut', 'FogSeverity', \n",
    "           'StormSeverity', 'SnowSeverity', 'RainSeverity']\n",
    "assembler_index = VectorAssembler(inputCols=inputCols, outputCol='features')\n",
    "data = assembler_index.transform(data)"
   ]
  },
  {
   "cell_type": "code",
   "execution_count": 13,
   "id": "9c37aa21-9895-40ee-a3b6-28e07b25a572",
   "metadata": {},
   "outputs": [],
   "source": [
    "# Split data: 70% training, 30% testing\n",
    "train_data, test_data = data.randomSplit([0.7, 0.3], seed=12345)"
   ]
  },
  {
   "cell_type": "code",
   "execution_count": 14,
   "id": "017f049c-19f9-4689-bdf5-427bfa6d65d8",
   "metadata": {},
   "outputs": [
    {
     "name": "stdout",
     "output_type": "stream",
     "text": [
      "Time for LR model training: 62.49591064453125 seconds\n"
     ]
    }
   ],
   "source": [
    "start = time.time()\n",
    "lr = LogisticRegression(featuresCol='features', labelCol='ArrDel15')\n",
    "lr_model = lr.fit(train_data)\n",
    "end = time.time()\n",
    "print(f\"Time for LR model training: {end-start} seconds\")"
   ]
  },
  {
   "cell_type": "code",
   "execution_count": 15,
   "id": "afbdf8f0-8d61-49fd-abc3-f68058354d6f",
   "metadata": {},
   "outputs": [
    {
     "name": "stdout",
     "output_type": "stream",
     "text": [
      "Time for DT model training: 67.55614185333252 seconds\n"
     ]
    }
   ],
   "source": [
    "start = time.time()\n",
    "dtc = DecisionTreeClassifier(labelCol='ArrDel15', seed=42, maxDepth=15, maxBins=400)\n",
    "dtc_model = dtc.fit(train_data)\n",
    "end = time.time()\n",
    "print(f\"Time for DT model training: {end-start} seconds\")"
   ]
  },
  {
   "cell_type": "code",
   "execution_count": 16,
   "id": "b62d06d1-beb7-41ca-afde-b23ad93cc44c",
   "metadata": {},
   "outputs": [
    {
     "name": "stdout",
     "output_type": "stream",
     "text": [
      "Time for SVM model training: 59.88911557197571 seconds\n"
     ]
    }
   ],
   "source": [
    "start = time.time()\n",
    "svm = LinearSVC(labelCol=\"ArrDel15\", featuresCol=\"features\", maxIter=10, regParam=0.1)\n",
    "svm_model = svm.fit(train_data)\n",
    "end = time.time()\n",
    "print(f\"Time for SVM model training: {end-start} seconds\")"
   ]
  },
  {
   "cell_type": "code",
   "execution_count": 17,
   "id": "68c4c94d-cc2f-44c3-bb3d-be8b5bd217a9",
   "metadata": {},
   "outputs": [
    {
     "data": {
      "image/png": "[encoded data removed]",
      "text/plain": [
       "<Figure size 1000x500 with 1 Axes>"
      ]
     },
     "metadata": {},
     "output_type": "display_data"
    },
    {
     "name": "stdout",
     "output_type": "stream",
     "text": [
      "{'Algorithm': ['LogisticRegression', 'DecisionTree', 'SVM'], 'Accuracy': [0.8413865783918509, 0.8520448572269079, 0.8271060364586196], 'ROC_AUC': [0.5609016845274937, 0.6090948056595109, 0.5], 'PR_AUC': [0.4867047675270756, 0.5100839529751089, 0.17289396354138042], 'TP Rate': [0.13216472677978777, 0.2377319684008788, 0.0], 'TN Rate': [0.9896386422751994, 0.980457642918143, 1.0]}\n"
     ]
    }
   ],
   "source": [
    "models = [(\"LogisticRegression\", lr_model), (\"DecisionTree\", dtc_model), (\"SVM\", svm_model)]\n",
    "metrics = evaluate_models(models, test_data, labelCol='ArrDel15')\n",
    "plot_results(metrics)\n",
    "print(metrics)"
   ]
  },
  {
   "cell_type": "code",
   "execution_count": null,
   "id": "4eb51c80-4b98-4cb8-a71e-d74ca81ad58b",
   "metadata": {},
   "outputs": [],
   "source": []
  },
  {
   "cell_type": "code",
   "execution_count": 22,
   "id": "5679d9a5-548e-40b8-80b9-288ddee18637",
   "metadata": {},
   "outputs": [],
   "source": [
    "dtc1 = DecisionTreeClassifier(labelCol='ArrDel15', seed=42, maxDepth=5, maxBins=400)\n",
    "dtc_model1 = dtc1.fit(train_data)\n",
    "\n",
    "dtc2 = DecisionTreeClassifier(labelCol='ArrDel15', seed=42, maxDepth=10, maxBins=400)\n",
    "dtc_model2 = dtc2.fit(train_data)\n",
    "\n",
    "dtc3 = DecisionTreeClassifier(labelCol='ArrDel15', seed=42, maxDepth=15, maxBins=400)\n",
    "dtc_model3 = dtc3.fit(train_data)"
   ]
  },
  {
   "cell_type": "code",
   "execution_count": 23,
   "id": "3f4fc8e2-6393-4ba1-995a-73ff3d1ba0e7",
   "metadata": {},
   "outputs": [
    {
     "name": "stdout",
     "output_type": "stream",
     "text": [
      "{'Algorithm': ['dtc5', 'dtc10', 'dtc15'], 'Accuracy': [0.8421069362324369, 0.8473902787790231, 0.8520448572269079], 'ROC_AUC': [0.5587502699685251, 0.5941526280884617, 0.6090948056595109], 'PR_AUC': [0.5054320342639115, 0.4895949969843214, 0.5100839529751089], 'TP Rate': [0.12562364636407547, 0.20706461615170071, 0.2377319684008788], 'TN Rate': [0.9918768935729747, 0.9812406400252227, 0.980457642918143]}\n"
     ]
    }
   ],
   "source": [
    "models = [(\"dtc5\", dtc_model1), (\"dtc10\", dtc_model2), (\"dtc15\", dtc_model3)]\n",
    "metrics = evaluate_models(models, test_data, labelCol='ArrDel15')\n",
    "print(metrics)"
   ]
  },
  {
   "cell_type": "code",
   "execution_count": 24,
   "id": "09e2e1e0-80d2-428c-ab78-71ba12a47e5e",
   "metadata": {},
   "outputs": [],
   "source": [
    "dtc = DecisionTreeClassifier(labelCol='ArrDel15', seed=42, maxDepth=3, maxBins=400, impurity=\"entropy\")\n",
    "dtc_model = dtc1.fit(train_data)\n",
    "\n",
    "dtc1 = DecisionTreeClassifier(labelCol='ArrDel15', seed=42, maxDepth=5, maxBins=400, impurity=\"entropy\")\n",
    "dtc_model1 = dtc1.fit(train_data)\n",
    "\n",
    "dtc2 = DecisionTreeClassifier(labelCol='ArrDel15', seed=42, maxDepth=10, maxBins=400, impurity=\"entropy\")\n",
    "dtc_model2 = dtc2.fit(train_data)\n",
    "\n",
    "dtc3 = DecisionTreeClassifier(labelCol='ArrDel15', seed=42, maxDepth=15, maxBins=400, impurity=\"entropy\")\n",
    "dtc_model3 = dtc3.fit(train_data)"
   ]
  },
  {
   "cell_type": "code",
   "execution_count": 25,
   "id": "6b2985a2-7a23-49fe-8851-f8e8dd24f20e",
   "metadata": {},
   "outputs": [
    {
     "name": "stdout",
     "output_type": "stream",
     "text": [
      "{'Algorithm': ['dtc3', 'dtc5', 'dtc10', 'dtc15'], 'Accuracy': [0.8421069362324369, 0.8423520841886573, 0.8469802620874106, 0.8518045583511402], 'ROC_AUC': [0.5587502699685251, 0.5624799255412023, 0.5922964367228345, 0.6078193968831351], 'PR_AUC': [0.5054320342639115, 0.49654002110334494, 0.4884309732878377, 0.5097718126850566], 'TP Rate': [0.12562364636407547, 0.13467956808301781, 0.20299786534536218, 0.23487433584194206], 'TN Rate': [0.9918768935729747, 0.990280282999387, 0.981595008100307, 0.9807644579243281]}\n"
     ]
    }
   ],
   "source": [
    "models = [(\"dtc3\", dtc_model), (\"dtc5\", dtc_model1), (\"dtc10\", dtc_model2), (\"dtc15\", dtc_model3)]\n",
    "metrics = evaluate_models(models, test_data, labelCol='ArrDel15')\n",
    "print(metrics)"
   ]
  },
  {
   "cell_type": "code",
   "execution_count": null,
   "id": "a28d182d-1b41-46b2-b668-f76d08b00077",
   "metadata": {},
   "outputs": [],
   "source": []
  }
 ],
 "metadata": {
  "kernelspec": {
   "display_name": "Python 3 (ipykernel)",
   "language": "python",
   "name": "python3"
  },
  "language_info": {
   "codemirror_mode": {
    "name": "ipython",
    "version": 3
   },
   "file_extension": ".py",
   "mimetype": "text/x-python",
   "name": "python",
   "nbconvert_exporter": "python",
   "pygments_lexer": "ipython3",
   "version": "3.11.6"
  }
 },
 "nbformat": 4,
 "nbformat_minor": 5
}
